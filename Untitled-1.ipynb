{
 "metadata": {
  "language_info": {
   "codemirror_mode": {
    "name": "ipython",
    "version": 3
   },
   "file_extension": ".py",
   "mimetype": "text/x-python",
   "name": "python",
   "nbconvert_exporter": "python",
   "pygments_lexer": "ipython3",
   "version": "3.7.10"
  },
  "orig_nbformat": 4,
  "kernelspec": {
   "name": "python3",
   "display_name": "Python 3.7.10 64-bit"
  },
  "interpreter": {
   "hash": "08ac3eca89787d6cda4f911abded6cd7662a190ae36960c2b5ee59d66f8445f6"
  }
 },
 "nbformat": 4,
 "nbformat_minor": 2,
 "cells": [
  {
   "cell_type": "code",
   "execution_count": 1,
   "metadata": {},
   "outputs": [],
   "source": [
    "import os\n",
    "import numpy as np"
   ]
  },
  {
   "cell_type": "code",
   "execution_count": 6,
   "metadata": {},
   "outputs": [],
   "source": [
    "knobs_path = \"data/rocksdb_data/configs/\""
   ]
  },
  {
   "cell_type": "code",
   "execution_count": 27,
   "metadata": {},
   "outputs": [],
   "source": [
    "config_files = os.listdir(knobs_path)\n",
    "\n",
    "dict_data = {}\n",
    "datas = []\n",
    "columns = []\n",
    "rowlabels = []\n",
    "\n",
    "compression_type = [\"none\", \"lz4\", \"snappy\", \"zlib\"]\n",
    "cache_index_and_filter_blocks = [\"true\", \"false\"]\n",
    "\n",
    "for m in range(len(config_files)):\n",
    "    flag = 0\n",
    "    config_datas = []\n",
    "    config_columns = []\n",
    "    knob_path = os.path.join(knobs_path, 'config'+str(m+1)+'.cnf')\n",
    "    f = open(knob_path, 'r')\n",
    "    config_file = f.readlines()\n",
    "    knobs_list = config_file[1:-1]\n",
    "\n",
    "    for l in knobs_list:\n",
    "        col, _, d = l.split()\n",
    "        if d.isalpha():\n",
    "            if d in compression_type:\n",
    "                d = compression_type.index(d)\n",
    "            elif d in cache_index_and_filter_blocks:\n",
    "                d = cache_index_and_filter_blocks.index(d)\n",
    "        config_datas.append(d)\n",
    "        config_columns.append(col)\n",
    "\n",
    "    datas.append(config_datas)\n",
    "    columns.append(config_columns)\n",
    "    rowlabels.append(m+1)\n",
    "\n",
    "dict_data['data'] = np.array(datas)\n",
    "dict_data['rowlabels'] = np.array(rowlabels)\n",
    "dict_data['columnlabels'] = np.array(columns[0])"
   ]
  },
  {
   "cell_type": "code",
   "execution_count": 28,
   "metadata": {},
   "outputs": [
    {
     "output_type": "execute_result",
     "data": {
      "text/plain": [
       "['max_background_compactions = 16\\n',\n",
       " 'max_background_flushes = 12\\n',\n",
       " 'write_buffer_size = 1027072\\n',\n",
       " 'max_write_buffer_number = 6\\n',\n",
       " 'min_write_buffer_number_to_merge = 1\\n',\n",
       " 'compaction_pri = 3\\n',\n",
       " 'compaction_style = 0\\n',\n",
       " 'level0_file_num_compaction_trigger = 7\\n',\n",
       " 'level0_slowdown_writes_trigger = 29\\n',\n",
       " 'level0_stop_writes_trigger = 54\\n',\n",
       " 'compression_type = none\\n',\n",
       " 'bloom_locality = 0\\n',\n",
       " 'open_files = 10000\\n',\n",
       " 'block_size = 9216\\n',\n",
       " 'cache_index_and_filter_blocks = true\\n',\n",
       " 'max_bytes_for_level_base = 7340032\\n',\n",
       " 'max_bytes_for_level_multiplier = 12\\n',\n",
       " 'target_file_size_base = 532480\\n',\n",
       " 'target_file_size_multiplier = 2\\n',\n",
       " 'num_levels = 8\\n',\n",
       " 'memtable_bloom_size_ratio = 0.2\\n',\n",
       " 'compression_ratio = 0.37\\n']"
      ]
     },
     "metadata": {},
     "execution_count": 28
    }
   ],
   "source": [
    "knobs_list"
   ]
  },
  {
   "cell_type": "code",
   "execution_count": 31,
   "metadata": {},
   "outputs": [
    {
     "output_type": "execute_result",
     "data": {
      "text/plain": [
       "array(['max_background_compactions', 'max_background_flushes',\n",
       "       'write_buffer_size', 'max_write_buffer_number',\n",
       "       'min_write_buffer_number_to_merge', 'compaction_pri',\n",
       "       'compaction_style', 'level0_file_num_compaction_trigger',\n",
       "       'level0_slowdown_writes_trigger', 'level0_stop_writes_trigger',\n",
       "       'compression_type', 'bloom_locality', 'open_files', 'block_size',\n",
       "       'cache_index_and_filter_blocks', 'max_bytes_for_level_base',\n",
       "       'max_bytes_for_level_multiplier', 'target_file_size_base',\n",
       "       'target_file_size_multiplier', 'num_levels',\n",
       "       'memtable_bloom_size_ratio', 'compression_ratio'], dtype='<U34')"
      ]
     },
     "metadata": {},
     "execution_count": 31
    }
   ],
   "source": [
    "dict_data['columnlabels']"
   ]
  },
  {
   "cell_type": "code",
   "execution_count": 30,
   "metadata": {},
   "outputs": [
    {
     "output_type": "execute_result",
     "data": {
      "text/plain": [
       "array(['6', '16', '1304576', '3', '2', '1', '0', '3', '24', '44', '2',\n",
       "       '0', '10000', '9216', '1', '5242880', '11', '1800192', '1', '8',\n",
       "       '0.1', '0.67'], dtype='<U21')"
      ]
     },
     "metadata": {},
     "execution_count": 30
    }
   ],
   "source": [
    "dict_data['data'][0]"
   ]
  },
  {
   "cell_type": "code",
   "execution_count": null,
   "metadata": {},
   "outputs": [],
   "source": []
  }
 ]
}