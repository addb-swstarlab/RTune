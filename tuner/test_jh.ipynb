{
 "metadata": {
  "language_info": {
   "codemirror_mode": {
    "name": "ipython",
    "version": 3
   },
   "file_extension": ".py",
   "mimetype": "text/x-python",
   "name": "python",
   "nbconvert_exporter": "python",
   "pygments_lexer": "ipython3",
   "version": "3.7.10"
  },
  "orig_nbformat": 4,
  "kernelspec": {
   "name": "py3.7",
   "display_name": "Python 3.7.10 64-bit ('py3.7': conda)"
  },
  "interpreter": {
   "hash": "08ac3eca89787d6cda4f911abded6cd7662a190ae36960c2b5ee59d66f8445f6"
  }
 },
 "nbformat": 4,
 "nbformat_minor": 2,
 "cells": [
  {
   "cell_type": "code",
   "execution_count": 2,
   "metadata": {},
   "outputs": [],
   "source": [
    "import numpy as np\n",
    "import pandas as pd"
   ]
  },
  {
   "cell_type": "code",
   "execution_count": 3,
   "metadata": {},
   "outputs": [
    {
     "output_type": "execute_result",
     "data": {
      "text/plain": [
       "{'data': [[1, 2, 3, 4, 5, 6, 7, 8, 9],\n",
       "  [11, 12, 13, 14, 15, 16, 17, 18, 19],\n",
       "  [21, 22, 23, 24, 25, 26, 27, 28, 29]],\n",
       " 'col': ['a', 'b', 'c'],\n",
       " 'row': [101, 102, 103, 104, 105, 106, 107, 108, 109]}"
      ]
     },
     "metadata": {},
     "execution_count": 3
    }
   ],
   "source": [
    "dic=dict()\n",
    "\n",
    "a = [i for i in range(1,10)]\n",
    "b = [i for i in range(11,20)]\n",
    "c = [i for i in range(21,30)]\n",
    "\n",
    "dic['data']=[a,b,c]\n",
    "\n",
    "dic['col']=['a','b','c']\n",
    "dic['row']=[i for i in range(101,110)]\n",
    "\n",
    "dic"
   ]
  },
  {
   "cell_type": "code",
   "execution_count": 4,
   "metadata": {},
   "outputs": [
    {
     "output_type": "execute_result",
     "data": {
      "text/plain": [
       "     a   b   c\n",
       "101  1  11  21\n",
       "102  2  12  22\n",
       "103  3  13  23\n",
       "104  4  14  24\n",
       "105  5  15  25\n",
       "106  6  16  26\n",
       "107  7  17  27\n",
       "108  8  18  28\n",
       "109  9  19  29"
      ],
      "text/html": "<div>\n<style scoped>\n    .dataframe tbody tr th:only-of-type {\n        vertical-align: middle;\n    }\n\n    .dataframe tbody tr th {\n        vertical-align: top;\n    }\n\n    .dataframe thead th {\n        text-align: right;\n    }\n</style>\n<table border=\"1\" class=\"dataframe\">\n  <thead>\n    <tr style=\"text-align: right;\">\n      <th></th>\n      <th>a</th>\n      <th>b</th>\n      <th>c</th>\n    </tr>\n  </thead>\n  <tbody>\n    <tr>\n      <th>101</th>\n      <td>1</td>\n      <td>11</td>\n      <td>21</td>\n    </tr>\n    <tr>\n      <th>102</th>\n      <td>2</td>\n      <td>12</td>\n      <td>22</td>\n    </tr>\n    <tr>\n      <th>103</th>\n      <td>3</td>\n      <td>13</td>\n      <td>23</td>\n    </tr>\n    <tr>\n      <th>104</th>\n      <td>4</td>\n      <td>14</td>\n      <td>24</td>\n    </tr>\n    <tr>\n      <th>105</th>\n      <td>5</td>\n      <td>15</td>\n      <td>25</td>\n    </tr>\n    <tr>\n      <th>106</th>\n      <td>6</td>\n      <td>16</td>\n      <td>26</td>\n    </tr>\n    <tr>\n      <th>107</th>\n      <td>7</td>\n      <td>17</td>\n      <td>27</td>\n    </tr>\n    <tr>\n      <th>108</th>\n      <td>8</td>\n      <td>18</td>\n      <td>28</td>\n    </tr>\n    <tr>\n      <th>109</th>\n      <td>9</td>\n      <td>19</td>\n      <td>29</td>\n    </tr>\n  </tbody>\n</table>\n</div>"
     },
     "metadata": {},
     "execution_count": 4
    }
   ],
   "source": [
    "df = pd.DataFrame(dic['data'], columns=dic['row'], index=dic['col']).T\n",
    "# df.index = dic['col']\n",
    "\n",
    "df"
   ]
  },
  {
   "cell_type": "code",
   "execution_count": 8,
   "metadata": {},
   "outputs": [
    {
     "output_type": "execute_result",
     "data": {
      "text/plain": [
       "     a   b   c\n",
       "104  4  14  24\n",
       "109  9  19  29\n",
       "101  1  11  21"
      ],
      "text/html": "<div>\n<style scoped>\n    .dataframe tbody tr th:only-of-type {\n        vertical-align: middle;\n    }\n\n    .dataframe tbody tr th {\n        vertical-align: top;\n    }\n\n    .dataframe thead th {\n        text-align: right;\n    }\n</style>\n<table border=\"1\" class=\"dataframe\">\n  <thead>\n    <tr style=\"text-align: right;\">\n      <th></th>\n      <th>a</th>\n      <th>b</th>\n      <th>c</th>\n    </tr>\n  </thead>\n  <tbody>\n    <tr>\n      <th>104</th>\n      <td>4</td>\n      <td>14</td>\n      <td>24</td>\n    </tr>\n    <tr>\n      <th>109</th>\n      <td>9</td>\n      <td>19</td>\n      <td>29</td>\n    </tr>\n    <tr>\n      <th>101</th>\n      <td>1</td>\n      <td>11</td>\n      <td>21</td>\n    </tr>\n  </tbody>\n</table>\n</div>"
     },
     "metadata": {},
     "execution_count": 8
    }
   ],
   "source": [
    "df.sample(3)"
   ]
  },
  {
   "cell_type": "code",
   "execution_count": null,
   "metadata": {},
   "outputs": [],
   "source": []
  }
 ]
}