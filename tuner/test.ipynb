{
 "metadata": {
  "language_info": {
   "codemirror_mode": {
    "name": "ipython",
    "version": 3
   },
   "file_extension": ".py",
   "mimetype": "text/x-python",
   "name": "python",
   "nbconvert_exporter": "python",
   "pygments_lexer": "ipython3",
   "version": "3.7.10"
  },
  "orig_nbformat": 4,
  "kernelspec": {
   "name": "python3",
   "display_name": "Python 3.7.10 64-bit"
  },
  "interpreter": {
   "hash": "08ac3eca89787d6cda4f911abded6cd7662a190ae36960c2b5ee59d66f8445f6"
  }
 },
 "nbformat": 4,
 "nbformat_minor": 2,
 "cells": [
  {
   "cell_type": "code",
   "execution_count": 10,
   "metadata": {},
   "outputs": [],
   "source": [
    "import utils, os\n",
    "import numpy as np\n",
    "import pandas as pd\n",
    "import torch\n",
    "from sklearn.preprocessing import StandardScaler"
   ]
  },
  {
   "cell_type": "code",
   "execution_count": 3,
   "metadata": {},
   "outputs": [],
   "source": [
    "DATA_PATH = \"../data/{}_data\".format('rocksdb')\n",
    "knobs_path = os.path.join(DATA_PATH, \"configs\")"
   ]
  },
  {
   "cell_type": "code",
   "execution_count": 4,
   "metadata": {},
   "outputs": [],
   "source": [
    "from knobs import load_knobs\n",
    "knob_data = load_knobs(knobs_path, 'rocksdb')\n",
    "config = knob_data['data']"
   ]
  },
  {
   "cell_type": "code",
   "execution_count": 5,
   "metadata": {},
   "outputs": [],
   "source": [
    "from metrics import load_metrics"
   ]
  },
  {
   "cell_type": "code",
   "execution_count": 7,
   "metadata": {},
   "outputs": [],
   "source": [
    "target_external = \"SCORE\"\n",
    "wk_internal_metrics_path = os.path.join(DATA_PATH, 'results', 'internal')\n",
    "wk_external_metrics_path = os.path.join(DATA_PATH, 'results', 'external')\n",
    "wk_internal_metrics_data = []\n",
    "wk_external_metrics_data = []\n",
    "# for wk in range(len(os.listdir(wk_internal_metrics_path))):\n",
    "#     wk_internal_metric, _ = load_metrics(m_path = os.path.join(wk_internal_metrics_path, \"internal_results_\"+str(wk)+\".csv\"),\n",
    "#                                             labels = knob_data['rowlabels'],\n",
    "#                                             mode = 'internal')\n",
    "#     wk_internal_metrics_data.append(wk_internal_metric)\n",
    "\n",
    "for wk in range(len(os.listdir(wk_external_metrics_path))):\n",
    "    wk_external_metric, _ = load_metrics(m_path = os.path.join(wk_external_metrics_path, \"external_results_\"+str(wk)+\".csv\"),\n",
    "                                            labels = knob_data['rowlabels'],\n",
    "                                            metrics = target_external,\n",
    "                                            mode = 'external')\n",
    "    wk_external_metrics_data.append(wk_external_metric)   "
   ]
  },
  {
   "cell_type": "code",
   "execution_count": null,
   "metadata": {},
   "outputs": [],
   "source": []
  },
  {
   "cell_type": "code",
   "execution_count": 9,
   "metadata": {},
   "outputs": [],
   "source": [
    "a = pd.read_csv(os.path.join(wk_external_metrics_path, \"external_results_\"+str(0)+\".csv\"), index_col=0)"
   ]
  },
  {
   "cell_type": "code",
   "execution_count": 25,
   "metadata": {},
   "outputs": [],
   "source": [
    "default_ex = [20.7, 5.02, 10.9, 56.84]\n",
    "b = [0.25, 0.25, 0.25, 0.25]"
   ]
  },
  {
   "cell_type": "code",
   "execution_count": null,
   "metadata": {},
   "outputs": [],
   "source": [
    "[h_ex[0]/self.de_ex[0], self.de_ex[1]/h_ex[1], h_ex[2]/self.de_ex[2], h_ex[3]/self.de_ex[3]]"
   ]
  },
  {
   "cell_type": "code",
   "execution_count": 27,
   "metadata": {},
   "outputs": [
    {
     "output_type": "execute_result",
     "data": {
      "text/plain": [
       "(tensor([[0.7097, 0.5811, 0.2594, 0.7094, 0.7935, 0.3672, 0.6155, 0.2812, 0.0578,\n",
       "          0.1317, 0.8501, 0.7587, 0.6929, 0.0497, 0.8091, 0.4869, 0.6307, 0.0776,\n",
       "          0.2971, 0.1181, 0.4993, 0.2571, 0.4622, 0.3018, 0.0252, 0.7627, 0.9270,\n",
       "          0.8221, 0.8076, 0.4413, 0.4653, 0.4317],\n",
       "         [0.5849, 0.7895, 0.0841, 0.0945, 0.8664, 0.4719, 0.4411, 0.2581, 0.8643,\n",
       "          0.5547, 0.6487, 0.0890, 0.7922, 0.8706, 0.5173, 0.9234, 0.7294, 0.5826,\n",
       "          0.3743, 0.8553, 0.8380, 0.6946, 0.5820, 0.2279, 0.6766, 0.3815, 0.9925,\n",
       "          0.5515, 0.4580, 0.8421, 0.3116, 0.2892],\n",
       "         [0.1062, 0.8265, 0.7498, 0.7259, 0.3986, 0.1533, 0.3342, 0.1951, 0.5023,\n",
       "          0.1128, 0.7317, 0.2226, 0.3465, 0.8254, 0.5997, 0.7927, 0.4282, 0.8508,\n",
       "          0.3236, 0.3910, 0.3462, 0.8495, 0.6000, 0.9255, 0.2183, 0.2843, 0.8103,\n",
       "          0.6583, 0.1250, 0.0709, 0.3949, 0.4558],\n",
       "         [0.5878, 0.4322, 0.5519, 0.5717, 0.6654, 0.2722, 0.7929, 0.4676, 0.7604,\n",
       "          0.2016, 0.5931, 0.2446, 0.9321, 0.2348, 0.9147, 0.3493, 0.9426, 0.3984,\n",
       "          0.8267, 0.2291, 0.7615, 0.1648, 0.4696, 0.8313, 0.8381, 0.1419, 0.4319,\n",
       "          0.6075, 0.6241, 0.9898, 0.9924, 0.9812]]),\n",
       " [20.7, 5.02, 10.9, 56.84])"
      ]
     },
     "metadata": {},
     "execution_count": 27
    }
   ],
   "source": [
    "h = torch.rand(4, 32)\n",
    "h, default_ex"
   ]
  },
  {
   "cell_type": "code",
   "execution_count": 36,
   "metadata": {},
   "outputs": [
    {
     "output_type": "execute_result",
     "data": {
      "text/plain": [
       "[tensor([0.0343, 0.0281, 0.0125, 0.0343, 0.0383, 0.0177, 0.0297, 0.0136, 0.0028,\n",
       "         0.0064, 0.0411, 0.0367, 0.0335, 0.0024, 0.0391, 0.0235, 0.0305, 0.0038,\n",
       "         0.0144, 0.0057, 0.0241, 0.0124, 0.0223, 0.0146, 0.0012, 0.0368, 0.0448,\n",
       "         0.0397, 0.0390, 0.0213, 0.0225, 0.0209]),\n",
       " tensor([ 8.5833,  6.3581, 59.7238, 53.1469,  5.7941, 10.6375, 11.3819, 19.4502,\n",
       "          5.8083,  9.0501,  7.7386, 56.3838,  6.3367,  5.7662,  9.7044,  5.4367,\n",
       "          6.8820,  8.6173, 13.4109,  5.8696,  5.9908,  7.2273,  8.6251, 22.0303,\n",
       "          7.4198, 13.1602,  5.0580,  9.1023, 10.9611,  5.9609, 16.1103, 17.3557]),\n",
       " tensor([0.0097, 0.0758, 0.0688, 0.0666, 0.0366, 0.0141, 0.0307, 0.0179, 0.0461,\n",
       "         0.0103, 0.0671, 0.0204, 0.0318, 0.0757, 0.0550, 0.0727, 0.0393, 0.0781,\n",
       "         0.0297, 0.0359, 0.0318, 0.0779, 0.0550, 0.0849, 0.0200, 0.0261, 0.0743,\n",
       "         0.0604, 0.0115, 0.0065, 0.0362, 0.0418]),\n",
       " tensor([0.0103, 0.0076, 0.0097, 0.0101, 0.0117, 0.0048, 0.0140, 0.0082, 0.0134,\n",
       "         0.0035, 0.0104, 0.0043, 0.0164, 0.0041, 0.0161, 0.0061, 0.0166, 0.0070,\n",
       "         0.0145, 0.0040, 0.0134, 0.0029, 0.0083, 0.0146, 0.0147, 0.0025, 0.0076,\n",
       "         0.0107, 0.0110, 0.0174, 0.0175, 0.0173])]"
      ]
     },
     "metadata": {},
     "execution_count": 36
    }
   ],
   "source": [
    "d_h = [h[0]/default_ex[0], default_ex[1]/h[1], h[2]/default_ex[2], h[3]/default_ex[3]]\n",
    "d_h"
   ]
  },
  {
   "cell_type": "code",
   "execution_count": 41,
   "metadata": {},
   "outputs": [
    {
     "output_type": "execute_result",
     "data": {
      "text/plain": [
       "tensor([ 2.1594,  1.6174, 14.9537, 13.3145,  1.4702,  2.6685,  2.8641,  4.8725,\n",
       "         1.4676,  2.2676,  1.9643, 14.1113,  1.6046,  1.4621,  2.4537,  1.3848,\n",
       "         1.7421,  2.1765,  3.3674,  1.4788,  1.5150,  1.8301,  2.1777,  5.5361,\n",
       "         1.8639,  3.3064,  1.2962,  2.3033,  2.7556,  1.5015,  4.0466,  4.3589])"
      ]
     },
     "metadata": {},
     "execution_count": 41
    }
   ],
   "source": [
    "sum([_*b[i] for i, _ in enumerate(d_h)])"
   ]
  },
  {
   "cell_type": "code",
   "execution_count": 14,
   "metadata": {},
   "outputs": [
    {
     "output_type": "execute_result",
     "data": {
      "text/plain": [
       "                                                     TIME  RATE   WAF     SA  \\\n",
       "index                                                                          \n",
       "/home/jieun/data_generation_rocksdb/rocksdb_con...   21.8  4.77   8.7  72.17   \n",
       "/home/jieun/data_generation_rocksdb/rocksdb_con...   25.9  4.02   8.9  55.83   \n",
       "/home/jieun/data_generation_rocksdb/rocksdb_con...   52.0  2.00   7.5  34.21   \n",
       "/home/jieun/data_generation_rocksdb/rocksdb_con...   53.6  1.94  10.5  56.94   \n",
       "/home/jieun/data_generation_rocksdb/rocksdb_con...   20.7  5.02  11.6  98.79   \n",
       "...                                                   ...   ...   ...    ...   \n",
       "/home/jieun/data_generation_rocksdb/rocksdb_con...  107.0  0.97  10.0  77.60   \n",
       "/home/jieun/data_generation_rocksdb/rocksdb_con...   41.3  2.52   6.2  73.62   \n",
       "/home/jieun/data_generation_rocksdb/rocksdb_con...   25.9  4.02   8.9  98.40   \n",
       "/home/jieun/data_generation_rocksdb/rocksdb_con...   31.4  3.31   8.7  81.18   \n",
       "/home/jieun/data_generation_rocksdb/rocksdb_con...   33.1  3.14   7.5  98.43   \n",
       "\n",
       "                                                       SCORE  \n",
       "index                                                         \n",
       "/home/jieun/data_generation_rocksdb/rocksdb_con...  1.141468  \n",
       "/home/jieun/data_generation_rocksdb/rocksdb_con...  1.074159  \n",
       "/home/jieun/data_generation_rocksdb/rocksdb_con...  1.040392  \n",
       "/home/jieun/data_generation_rocksdb/rocksdb_con...  0.776904  \n",
       "/home/jieun/data_generation_rocksdb/rocksdb_con...  0.998505  \n",
       "...                                                      ...  \n",
       "/home/jieun/data_generation_rocksdb/rocksdb_con...  0.680859  \n",
       "/home/jieun/data_generation_rocksdb/rocksdb_con...  1.155771  \n",
       "/home/jieun/data_generation_rocksdb/rocksdb_con...  1.034058  \n",
       "/home/jieun/data_generation_rocksdb/rocksdb_con...  0.988224  \n",
       "/home/jieun/data_generation_rocksdb/rocksdb_con...  1.055294  \n",
       "\n",
       "[20000 rows x 5 columns]"
      ],
      "text/html": "<div>\n<style scoped>\n    .dataframe tbody tr th:only-of-type {\n        vertical-align: middle;\n    }\n\n    .dataframe tbody tr th {\n        vertical-align: top;\n    }\n\n    .dataframe thead th {\n        text-align: right;\n    }\n</style>\n<table border=\"1\" class=\"dataframe\">\n  <thead>\n    <tr style=\"text-align: right;\">\n      <th></th>\n      <th>TIME</th>\n      <th>RATE</th>\n      <th>WAF</th>\n      <th>SA</th>\n      <th>SCORE</th>\n    </tr>\n    <tr>\n      <th>index</th>\n      <th></th>\n      <th></th>\n      <th></th>\n      <th></th>\n      <th></th>\n    </tr>\n  </thead>\n  <tbody>\n    <tr>\n      <th>/home/jieun/data_generation_rocksdb/rocksdb_conf/config1.cnf</th>\n      <td>21.8</td>\n      <td>4.77</td>\n      <td>8.7</td>\n      <td>72.17</td>\n      <td>1.141468</td>\n    </tr>\n    <tr>\n      <th>/home/jieun/data_generation_rocksdb/rocksdb_conf/config2.cnf</th>\n      <td>25.9</td>\n      <td>4.02</td>\n      <td>8.9</td>\n      <td>55.83</td>\n      <td>1.074159</td>\n    </tr>\n    <tr>\n      <th>/home/jieun/data_generation_rocksdb/rocksdb_conf/config3.cnf</th>\n      <td>52.0</td>\n      <td>2.00</td>\n      <td>7.5</td>\n      <td>34.21</td>\n      <td>1.040392</td>\n    </tr>\n    <tr>\n      <th>/home/jieun/data_generation_rocksdb/rocksdb_conf/config4.cnf</th>\n      <td>53.6</td>\n      <td>1.94</td>\n      <td>10.5</td>\n      <td>56.94</td>\n      <td>0.776904</td>\n    </tr>\n    <tr>\n      <th>/home/jieun/data_generation_rocksdb/rocksdb_conf/config5.cnf</th>\n      <td>20.7</td>\n      <td>5.02</td>\n      <td>11.6</td>\n      <td>98.79</td>\n      <td>0.998505</td>\n    </tr>\n    <tr>\n      <th>...</th>\n      <td>...</td>\n      <td>...</td>\n      <td>...</td>\n      <td>...</td>\n      <td>...</td>\n    </tr>\n    <tr>\n      <th>/home/jieun/data_generation_rocksdb/rocksdb_conf/config19996.cnf</th>\n      <td>107.0</td>\n      <td>0.97</td>\n      <td>10.0</td>\n      <td>77.60</td>\n      <td>0.680859</td>\n    </tr>\n    <tr>\n      <th>/home/jieun/data_generation_rocksdb/rocksdb_conf/config19997.cnf</th>\n      <td>41.3</td>\n      <td>2.52</td>\n      <td>6.2</td>\n      <td>73.62</td>\n      <td>1.155771</td>\n    </tr>\n    <tr>\n      <th>/home/jieun/data_generation_rocksdb/rocksdb_conf/config19998.cnf</th>\n      <td>25.9</td>\n      <td>4.02</td>\n      <td>8.9</td>\n      <td>98.40</td>\n      <td>1.034058</td>\n    </tr>\n    <tr>\n      <th>/home/jieun/data_generation_rocksdb/rocksdb_conf/config19999.cnf</th>\n      <td>31.4</td>\n      <td>3.31</td>\n      <td>8.7</td>\n      <td>81.18</td>\n      <td>0.988224</td>\n    </tr>\n    <tr>\n      <th>/home/jieun/data_generation_rocksdb/rocksdb_conf/config20000.cnf</th>\n      <td>33.1</td>\n      <td>3.14</td>\n      <td>7.5</td>\n      <td>98.43</td>\n      <td>1.055294</td>\n    </tr>\n  </tbody>\n</table>\n<p>20000 rows × 5 columns</p>\n</div>"
     },
     "metadata": {},
     "execution_count": 14
    }
   ],
   "source": [
    "a['SCORE'] = default_ex[0]/a['TIME']*0.25+a['RATE']/default_ex[1]*0.25+default_ex[0]/a['WAF']*0.25+default_ex[0]/a['SA']*0.25\n",
    "a"
   ]
  },
  {
   "cell_type": "code",
   "execution_count": 15,
   "metadata": {},
   "outputs": [
    {
     "output_type": "execute_result",
     "data": {
      "text/plain": [
       "(7367, 3.179063345955912)"
      ]
     },
     "metadata": {},
     "execution_count": 15
    }
   ],
   "source": [
    "np.argmax(a['SCORE']), max(a['SCORE'])"
   ]
  },
  {
   "cell_type": "code",
   "execution_count": 7,
   "metadata": {},
   "outputs": [
    {
     "output_type": "execute_result",
     "data": {
      "text/plain": [
       "{'columnlabels': array(['TIME', 'RATE', 'WAF', 'SA'], dtype=object),\n",
       " 'rowlabels': array([    1,     2,     3, ..., 19998, 19999, 20000]),\n",
       " 'data': array([[ 82.000,  12.490,  6.500,  466.980],\n",
       "        [ 77.400,  13.230,  6.300,  356.740],\n",
       "        [ 100.600,  10.190,  8.100,  206.590],\n",
       "        ...,\n",
       "        [ 127.500,  8.030,  5.800,  648.070],\n",
       "        [ 118.600,  8.640,  6.500,  531.290],\n",
       "        [ 146.900,  6.970,  6.600,  648.010]])}"
      ]
     },
     "metadata": {},
     "execution_count": 7
    }
   ],
   "source": [
    "wk_external_metric"
   ]
  },
  {
   "cell_type": "code",
   "execution_count": 6,
   "metadata": {},
   "outputs": [
    {
     "output_type": "execute_result",
     "data": {
      "text/plain": [
       "[{'columnlabels': array(['WAF'], dtype=object),\n",
       "  'rowlabels': array([    1,     2,     3, ..., 19998, 19999, 20000]),\n",
       "  'data': array([[ 8.700],\n",
       "         [ 8.900],\n",
       "         [ 7.500],\n",
       "         ...,\n",
       "         [ 8.900],\n",
       "         [ 8.700],\n",
       "         [ 7.500]])},\n",
       " {'columnlabels': array(['WAF'], dtype=object),\n",
       "  'rowlabels': array([    1,     2,     3, ..., 19998, 19999, 20000]),\n",
       "  'data': array([[ 8.800],\n",
       "         [ 8.900],\n",
       "         [ 7.200],\n",
       "         ...,\n",
       "         [ 8.800],\n",
       "         [ 8.200],\n",
       "         [ 6.500]])},\n",
       " {'columnlabels': array(['WAF'], dtype=object),\n",
       "  'rowlabels': array([    1,     2,     3, ..., 19998, 19999, 20000]),\n",
       "  'data': array([[ 6.000],\n",
       "         [ 7.300],\n",
       "         [ 6.700],\n",
       "         ...,\n",
       "         [ 6.700],\n",
       "         [ 6.700],\n",
       "         [ 4.900]])},\n",
       " {'columnlabels': array(['WAF'], dtype=object),\n",
       "  'rowlabels': array([    1,     2,     3, ..., 19998, 19999, 20000]),\n",
       "  'data': array([[ 6.100],\n",
       "         [ 5.600],\n",
       "         [ 6.900],\n",
       "         ...,\n",
       "         [ 6.000],\n",
       "         [ 6.000],\n",
       "         [ 3.900]])},\n",
       " {'columnlabels': array(['WAF'], dtype=object),\n",
       "  'rowlabels': array([    1,     2,     3, ..., 19998, 19999, 20000]),\n",
       "  'data': array([[ 9.800],\n",
       "         [ 10.400],\n",
       "         [ 9.900],\n",
       "         ...,\n",
       "         [ 8.400],\n",
       "         [ 10.300],\n",
       "         [ 9.200]])},\n",
       " {'columnlabels': array(['WAF'], dtype=object),\n",
       "  'rowlabels': array([    1,     2,     3, ..., 19998, 19999, 20000]),\n",
       "  'data': array([[ 8.200],\n",
       "         [ 7.200],\n",
       "         [ 8.400],\n",
       "         ...,\n",
       "         [ 6.600],\n",
       "         [ 6.700],\n",
       "         [ 5.900]])},\n",
       " {'columnlabels': array(['WAF'], dtype=object),\n",
       "  'rowlabels': array([    1,     2,     3, ..., 19998, 19999, 20000]),\n",
       "  'data': array([[ 7.000],\n",
       "         [ 6.200],\n",
       "         [ 7.200],\n",
       "         ...,\n",
       "         [ 6.000],\n",
       "         [ 5.700],\n",
       "         [ 5.600]])},\n",
       " {'columnlabels': array(['WAF'], dtype=object),\n",
       "  'rowlabels': array([    1,     2,     3, ..., 19998, 19999, 20000]),\n",
       "  'data': array([[ 6.700],\n",
       "         [ 5.900],\n",
       "         [ 6.700],\n",
       "         ...,\n",
       "         [ 6.200],\n",
       "         [ 5.000],\n",
       "         [ 5.600]])},\n",
       " {'columnlabels': array(['WAF'], dtype=object),\n",
       "  'rowlabels': array([    1,     2,     3, ..., 19998, 19999, 20000]),\n",
       "  'data': array([[ 8.200],\n",
       "         [ 7.000],\n",
       "         [ 8.200],\n",
       "         ...,\n",
       "         [ 6.300],\n",
       "         [ 6.800],\n",
       "         [ 6.500]])},\n",
       " {'columnlabels': array(['WAF'], dtype=object),\n",
       "  'rowlabels': array([    1,     2,     3, ..., 19998, 19999, 20000]),\n",
       "  'data': array([[ 6.400],\n",
       "         [ 6.200],\n",
       "         [ 7.000],\n",
       "         ...,\n",
       "         [ 5.200],\n",
       "         [ 6.400],\n",
       "         [ 6.700]])},\n",
       " {'columnlabels': array(['WAF'], dtype=object),\n",
       "  'rowlabels': array([    1,     2,     3, ..., 19998, 19999, 20000]),\n",
       "  'data': array([[ 6.300],\n",
       "         [ 6.500],\n",
       "         [ 6.700],\n",
       "         ...,\n",
       "         [ 5.900],\n",
       "         [ 6.400],\n",
       "         [ 6.900]])},\n",
       " {'columnlabels': array(['WAF'], dtype=object),\n",
       "  'rowlabels': array([    1,     2,     3, ..., 19998, 19999, 20000]),\n",
       "  'data': array([[ 6.000],\n",
       "         [ 6.200],\n",
       "         [ 6.500],\n",
       "         ...,\n",
       "         [ 6.100],\n",
       "         [ 6.300],\n",
       "         [ 6.600]])},\n",
       " {'columnlabels': array(['WAF'], dtype=object),\n",
       "  'rowlabels': array([    1,     2,     3, ..., 19998, 19999, 20000]),\n",
       "  'data': array([[ 11.100],\n",
       "         [ 11.400],\n",
       "         [ 11.600],\n",
       "         ...,\n",
       "         [ 10.300],\n",
       "         [ 11.800],\n",
       "         [ 11.000]])},\n",
       " {'columnlabels': array(['WAF'], dtype=object),\n",
       "  'rowlabels': array([    1,     2,     3, ..., 19998, 19999, 20000]),\n",
       "  'data': array([[ 9.900],\n",
       "         [ 9.000],\n",
       "         [ 10.000],\n",
       "         ...,\n",
       "         [ 7.800],\n",
       "         [ 8.300],\n",
       "         [ 7.600]])},\n",
       " {'columnlabels': array(['WAF'], dtype=object),\n",
       "  'rowlabels': array([    1,     2,     3, ..., 19998, 19999, 20000]),\n",
       "  'data': array([[ 7.400],\n",
       "         [ 7.400],\n",
       "         [ 8.900],\n",
       "         ...,\n",
       "         [ 5.900],\n",
       "         [ 6.500],\n",
       "         [ 6.500]])},\n",
       " {'columnlabels': array(['WAF'], dtype=object),\n",
       "  'rowlabels': array([    1,     2,     3, ..., 19998, 19999, 20000]),\n",
       "  'data': array([[ 6.500],\n",
       "         [ 6.300],\n",
       "         [ 8.100],\n",
       "         ...,\n",
       "         [ 5.800],\n",
       "         [ 6.500],\n",
       "         [ 6.600]])}]"
      ]
     },
     "metadata": {},
     "execution_count": 6
    }
   ],
   "source": [
    "wk_external_metrics_data"
   ]
  },
  {
   "cell_type": "code",
   "execution_count": 6,
   "metadata": {},
   "outputs": [
    {
     "output_type": "error",
     "ename": "NameError",
     "evalue": "name 'wk_internal_metrics' is not defined",
     "traceback": [
      "\u001b[0;31m---------------------------------------------------------------------------\u001b[0m",
      "\u001b[0;31mNameError\u001b[0m                                 Traceback (most recent call last)",
      "\u001b[0;32m<ipython-input-6-46cedaa70e8a>\u001b[0m in \u001b[0;36m<module>\u001b[0;34m\u001b[0m\n\u001b[1;32m      2\u001b[0m \u001b[0mdrop_columns\u001b[0m \u001b[0;34m=\u001b[0m \u001b[0;34m[\u001b[0m\u001b[0;34m'count'\u001b[0m\u001b[0;34m,\u001b[0m \u001b[0;34m'min'\u001b[0m\u001b[0;34m,\u001b[0m \u001b[0;34m'max'\u001b[0m\u001b[0;34m]\u001b[0m\u001b[0;34m\u001b[0m\u001b[0;34m\u001b[0m\u001b[0m\n\u001b[1;32m      3\u001b[0m \u001b[0;34m\u001b[0m\u001b[0m\n\u001b[0;32m----> 4\u001b[0;31m \u001b[0;32mfor\u001b[0m \u001b[0mwk_internal_metric\u001b[0m \u001b[0;32min\u001b[0m \u001b[0mwk_internal_metrics\u001b[0m\u001b[0;34m:\u001b[0m\u001b[0;34m\u001b[0m\u001b[0;34m\u001b[0m\u001b[0m\n\u001b[0m\u001b[1;32m      5\u001b[0m     \u001b[0mwk_stats\u001b[0m \u001b[0;34m=\u001b[0m \u001b[0mwk_internal_metric\u001b[0m\u001b[0;34m.\u001b[0m\u001b[0mdescribe\u001b[0m\u001b[0;34m(\u001b[0m\u001b[0;34m)\u001b[0m\u001b[0;34m.\u001b[0m\u001b[0mT\u001b[0m\u001b[0;34m.\u001b[0m\u001b[0mdrop\u001b[0m\u001b[0;34m(\u001b[0m\u001b[0mcolumns\u001b[0m\u001b[0;34m=\u001b[0m\u001b[0mdrop_columns\u001b[0m\u001b[0;34m)\u001b[0m\u001b[0;34m\u001b[0m\u001b[0;34m\u001b[0m\u001b[0m\n\u001b[1;32m      6\u001b[0m     \u001b[0mwk_stats_list\u001b[0m\u001b[0;34m.\u001b[0m\u001b[0mappend\u001b[0m\u001b[0;34m(\u001b[0m\u001b[0mwk_stats\u001b[0m\u001b[0;34m.\u001b[0m\u001b[0mT\u001b[0m\u001b[0;34m)\u001b[0m\u001b[0;34m\u001b[0m\u001b[0;34m\u001b[0m\u001b[0m\n",
      "\u001b[0;31mNameError\u001b[0m: name 'wk_internal_metrics' is not defined"
     ]
    }
   ],
   "source": [
    "wk_stats_list = []\n",
    "drop_columns = ['count', 'min', 'max']\n",
    "\n",
    "for wk_internal_metric in wk_internal_metrics:\n",
    "    wk_stats = wk_internal_metric.describe().T.drop(columns=drop_columns)\n",
    "    wk_stats_list.append(wk_stats.T)"
   ]
  },
  {
   "cell_type": "code",
   "execution_count": 7,
   "metadata": {},
   "outputs": [],
   "source": [
    "pruned_metrics = ['rocksdb.number.keys.written COUNT', 'rocksdb.block.cache.bytes.read COUNT', 'rocksdb.block.cache.data.bytes.insert COUNT', 'rocksdb.bytes.decompressed_SUM', 'rocksdb.block.cache.bytes.write COUNT', 'rocksdb.block.cache.index.bytes.insert COUNT', 'rocksdb.compact.read.bytes COUNT', 'rocksdb.bytes.compressed_SUM', 'rocksdb.compaction.times.micros_SUM', 'rocksdb.flush.write.bytes COUNT', 'rocksdb.bytes.read COUNT', 'rocksdb.compact.write.bytes COUNT', 'rocksdb.bytes.written COUNT', 'rocksdb.compaction.outfile.sync.micros_SUM', 'rocksdb.db.get.micros_SUM', 'rocksdb.db.flush.micros_SUM', 'rocksdb.compaction.times.cpu_micros_SUM', 'rocksdb.write.raw.block.micros_SUM', 'rocksdb.db.write.stall_SUM', 'rocksdb.read.block.get.micros_SUM']\n",
    "metric_idxs = [i for i, metric_name in enumerate(wk_internal_metrics_data[0]['columnlabels']) if metric_name in pruned_metrics]"
   ]
  },
  {
   "cell_type": "code",
   "execution_count": 8,
   "metadata": {},
   "outputs": [],
   "source": [
    "wk_pruned_internal_metrics_data = []\n",
    "for wk_int_met in wk_internal_metrics_data:\n",
    "    wk_int_met['data'] = wk_int_met['data'][:,metric_idxs]\n",
    "    wk_pruned_internal_metrics_data.append(wk_int_met)"
   ]
  },
  {
   "cell_type": "code",
   "execution_count": 9,
   "metadata": {},
   "outputs": [],
   "source": [
    "def numpy_to_df(numpy_):\n",
    "    return pd.DataFrame(numpy_)"
   ]
  },
  {
   "cell_type": "code",
   "execution_count": 10,
   "metadata": {},
   "outputs": [],
   "source": [
    "wk_stats_list = []\n",
    "drop_columns = ['count', 'min', 'max']\n",
    "target_wk = 15\n",
    "target_size = 50\n",
    "\n",
    "for i, wk_internal_metric in enumerate(wk_pruned_internal_metrics_data):\n",
    "    df_wk_internal_metric = numpy_to_df(wk_internal_metric['data'])\n",
    "    if i == target_wk:\n",
    "        df_wk_internal_metric = df_wk_internal_metric.sample(target_size)\n",
    "    wk_stats = df_wk_internal_metric.describe().T.drop(columns=drop_columns)\n",
    "    wk_stats_list.append(wk_stats.T)\n",
    "\n",
    "cov_internal_metrics = pd.concat(wk_stats_list, axis=1).T.cov()"
   ]
  },
  {
   "cell_type": "code",
   "execution_count": 11,
   "metadata": {},
   "outputs": [],
   "source": [
    "int_idx = wk_stats_list[0].columns"
   ]
  },
  {
   "cell_type": "code",
   "execution_count": 12,
   "metadata": {},
   "outputs": [],
   "source": [
    "from scipy.spatial import distance"
   ]
  },
  {
   "cell_type": "code",
   "execution_count": 15,
   "metadata": {},
   "outputs": [],
   "source": [
    "# wk_mah_dis = []\n",
    "wk_mah_dis = {}\n",
    "for wk, wk_stats in enumerate(wk_stats_list):\n",
    "    # if wk != target_wk:\n",
    "    sum_d = 0\n",
    "    for idx in int_idx:\n",
    "        d = distance.mahalanobis(u=wk_stats[idx], v=wk_stats_list[target_wk][idx], VI=np.linalg.pinv(cov_internal_metrics))\n",
    "        sum_d += d\n",
    "    wk_mah_dis[wk] = sum_d"
   ]
  },
  {
   "cell_type": "code",
   "execution_count": 37,
   "metadata": {},
   "outputs": [
    {
     "output_type": "execute_result",
     "data": {
      "text/plain": [
       "{0: 41.46313352626349,\n",
       " 1: 34.02466556035429,\n",
       " 2: 33.572909243861744,\n",
       " 3: 32.08183114685201,\n",
       " 4: 38.22066171625489,\n",
       " 5: 34.97549322532919,\n",
       " 6: 31.366376533337927,\n",
       " 7: 29.971842227695316,\n",
       " 8: 44.64470287212374,\n",
       " 9: 36.44898541940156,\n",
       " 10: 32.74039449010933,\n",
       " 11: 32.11533948742283,\n",
       " 12: 62.67093208671621,\n",
       " 13: 45.440422842173504,\n",
       " 14: 30.689102725203956,\n",
       " 15: 0.0}"
      ]
     },
     "metadata": {},
     "execution_count": 37
    }
   ],
   "source": [
    "wk_mah_dis"
   ]
  },
  {
   "cell_type": "code",
   "execution_count": 42,
   "metadata": {},
   "outputs": [],
   "source": [
    "sub_max_mah = {}\n",
    "reverse_score = {}\n",
    "for key in wk_mah_dis.keys():\n",
    "    sub_max_mah[key] = max(wk_mah_dis.values()) - wk_mah_dis[key]\n",
    "sub_max_mah.pop(target_wk) # remove target wk\n",
    "\n",
    "for key in sub_max_mah.keys():\n",
    "    reverse_score[key] = sub_max_mah[key]/sum(sub_max_mah.values())\n",
    "wk_sorted_score = sorted(reverse_score.items(), key=(lambda x:x[1]), reverse=True) # return [(),(),()] list, tuple"
   ]
  },
  {
   "source": [
    "sub_max_mah = max(wk_mah_dis) - wk_mah_dis\n",
    "reverse_score = sub_max_mah/sum(sub_max_mah)\n",
    "reverse_score"
   ],
   "cell_type": "code",
   "metadata": {},
   "execution_count": 18,
   "outputs": [
    {
     "output_type": "error",
     "ename": "TypeError",
     "evalue": "unsupported operand type(s) for -: 'int' and 'dict'",
     "traceback": [
      "\u001b[0;31m---------------------------------------------------------------------------\u001b[0m",
      "\u001b[0;31mTypeError\u001b[0m                                 Traceback (most recent call last)",
      "\u001b[0;32m<ipython-input-18-6f3bbc2e140d>\u001b[0m in \u001b[0;36m<module>\u001b[0;34m\u001b[0m\n\u001b[0;32m----> 1\u001b[0;31m \u001b[0msub_max_mah\u001b[0m \u001b[0;34m=\u001b[0m \u001b[0mmax\u001b[0m\u001b[0;34m(\u001b[0m\u001b[0mwk_mah_dis\u001b[0m\u001b[0;34m)\u001b[0m \u001b[0;34m-\u001b[0m \u001b[0mwk_mah_dis\u001b[0m\u001b[0;34m\u001b[0m\u001b[0;34m\u001b[0m\u001b[0m\n\u001b[0m\u001b[1;32m      2\u001b[0m \u001b[0mreverse_score\u001b[0m \u001b[0;34m=\u001b[0m \u001b[0msub_max_mah\u001b[0m\u001b[0;34m/\u001b[0m\u001b[0msum\u001b[0m\u001b[0;34m(\u001b[0m\u001b[0msub_max_mah\u001b[0m\u001b[0;34m)\u001b[0m\u001b[0;34m\u001b[0m\u001b[0;34m\u001b[0m\u001b[0m\n\u001b[1;32m      3\u001b[0m \u001b[0mreverse_score\u001b[0m\u001b[0;34m\u001b[0m\u001b[0;34m\u001b[0m\u001b[0m\n",
      "\u001b[0;31mTypeError\u001b[0m: unsupported operand type(s) for -: 'int' and 'dict'"
     ]
    }
   ]
  },
  {
   "cell_type": "code",
   "execution_count": 235,
   "metadata": {},
   "outputs": [
    {
     "output_type": "execute_result",
     "data": {
      "text/plain": [
       "array([0, 1, 2, 3])"
      ]
     },
     "metadata": {},
     "execution_count": 235
    }
   ],
   "source": [
    "wk_sorted_score = np.argsort(-reverse_score)\n",
    "wk_sorted_score"
   ]
  },
  {
   "cell_type": "code",
   "execution_count": 69,
   "metadata": {},
   "outputs": [],
   "source": [
    "wk_df_external_metrics = []\n",
    "for wk_external_metric in wk_external_metrics_data:\n",
    "    df_external_metric = pd.DataFrame(data=wk_external_metric['data'], columns=wk_external_metric['columnlabels'], index=wk_external_metric['rowlabels'])\n",
    "    wk_df_external_metrics.append(df_external_metric)"
   ]
  },
  {
   "cell_type": "code",
   "execution_count": 77,
   "metadata": {},
   "outputs": [
    {
     "output_type": "stream",
     "name": "stdout",
     "text": [
      "7th workload remained data size 20000, get data size 1723\n14th workload remained data size 18277, get data size 1685\n6th workload remained data size 16592, get data size 1649\n3th workload remained data size 14943, get data size 1611\n11th workload remained data size 13332, get data size 1610\n10th workload remained data size 11722, get data size 1577\n2th workload remained data size 10145, get data size 1533\n1th workload remained data size 8612, get data size 1509\n5th workload remained data size 7103, get data size 1459\n9th workload remained data size 5644, get data size 1381\n4th workload remained data size 4263, get data size 1288\n0th workload remained data size 2975, get data size 1117\n8th workload remained data size 1858, get data size 950\n13th workload remained data size 908, get data size 908\n12th workload remained data size 0, get data size 0\n"
     ]
    }
   ],
   "source": [
    "sample_size = 20000\n",
    "combined_wk = pd.DataFrame()\n",
    "for _, (wk, score) in enumerate(wk_sorted_score):\n",
    "    wk_sample_size = round(score * sample_size)\n",
    "    # Sorting external metrics by workload\n",
    "    sorted_df_external_metric = wk_df_external_metrics[wk].sort_values(by=['WAF'])\n",
    "    # Remove duplicated index\n",
    "    sorted_df_external_metric = sorted_df_external_metric.drop(combined_wk.index)\n",
    "    print(f\"{wk}th workload remained data size {len(sorted_df_external_metric)}, get data size {wk_sample_size}\")\n",
    "    \n",
    "    combined_wk = pd.concat([combined_wk,sorted_df_external_metric[:wk_sample_size]])    "
   ]
  },
  {
   "cell_type": "code",
   "execution_count": 240,
   "metadata": {},
   "outputs": [
    {
     "output_type": "stream",
     "name": "stdout",
     "text": [
      "14th workload remained data size 20000, get data size 11571\n7th workload remained data size 8429, get data size 6828\n11th workload remained data size 1601, get data size 1601\n10th workload remained data size 0, get data size 0\n"
     ]
    }
   ],
   "source": [
    "sample_size = 20000\n",
    "combined_wk = pd.DataFrame()\n",
    "for i, wk in enumerate(top_sort):\n",
    "    wk_sample_size = round(reverse_score[i] * sample_size)\n",
    "    # Sorting external metrics by workload\n",
    "    sorted_df_external_metric = wk_df_external_metrics[wk].sort_values(by=['WAF'])\n",
    "    # Remove duplicated index\n",
    "    sorted_df_external_metric = sorted_df_external_metric.drop(combined_wk.index)\n",
    "    print(f\"{wk}th workload remained data size {len(sorted_df_external_metric)}, get data size {wk_sample_size}\")\n",
    "    \n",
    "    combined_wk = pd.concat([combined_wk,sorted_df_external_metric[:wk_sample_size]])    "
   ]
  },
  {
   "cell_type": "code",
   "execution_count": null,
   "metadata": {},
   "outputs": [],
   "source": [
    "sample_size = 20000\n",
    "combined_wk = pd.DataFrame()\n",
    "for wk in top_score:\n",
    "    wk_sample_size = round(top_score[wk] * sample_size)\n",
    "    # Sorting external metrics by workload\n",
    "    sorted_df_external_metric = wk_df_external_metrics[wk].sort_values(by=['WAF'])\n",
    "    # Remove duplicated index\n",
    "    sorted_df_external_metric = sorted_df_external_metric.drop(combined_wk.index)\n",
    "    print(f\"{wk}th workload remained data size {len(sorted_df_external_metric)}, get data size {wk_sample_size}\")\n",
    "    \n",
    "    combined_wk = pd.concat([combined_wk,sorted_df_external_metric[:wk_sample_size]])    "
   ]
  },
  {
   "cell_type": "code",
   "execution_count": 143,
   "metadata": {},
   "outputs": [
    {
     "output_type": "stream",
     "name": "stdout",
     "text": [
      "14th workload remained data size 20000\n7th workload remained data size 18662\n6th workload remained data size 17329\n11th workload remained data size 15996\n10th workload remained data size 14663\n3th workload remained data size 13330\n2th workload remained data size 11997\n9th workload remained data size 10664\n5th workload remained data size 9331\n1th workload remained data size 7998\n8th workload remained data size 6665\n4th workload remained data size 5332\n13th workload remained data size 3999\n0th workload remained data size 2666\n12th workload remained data size 1333\n"
     ]
    }
   ],
   "source": [
    "sample_size = 20000\n",
    "wk_sample_size = int(sample_size/len(wk_score))\n",
    "if wk_sample_size*len(wk_score) != sample_size: # if there is a remainder after division\n",
    "    wk_sample_size = wk_sample_size + (sample_size- wk_sample_size*len(wk_score))\n",
    "combined_wk = pd.DataFrame()\n",
    "\n",
    "for wk in wk_score:\n",
    "    # Sorting external metrics by workload\n",
    "    sorted_df_external_metric = wk_df_external_metrics[wk].sort_values(by=['WAF'])\n",
    "    # Remove duplicated index\n",
    "    sorted_df_external_metric = sorted_df_external_metric.drop(combined_wk.index)\n",
    "    print(f\"{wk}th workload remained data size {len(sorted_df_external_metric)}\")\n",
    "    combined_wk = pd.concat([combined_wk,sorted_df_external_metric[:wk_sample_size]])\n",
    "    wk_sample_size = int(sample_size/len(wk_score))"
   ]
  },
  {
   "cell_type": "code",
   "execution_count": 100,
   "metadata": {},
   "outputs": [
    {
     "output_type": "error",
     "ename": "NameError",
     "evalue": "name 'combined_wk' is not defined",
     "traceback": [
      "\u001b[0;31m---------------------------------------------------------------------------\u001b[0m",
      "\u001b[0;31mNameError\u001b[0m                                 Traceback (most recent call last)",
      "\u001b[0;32m<ipython-input-100-2864df481c04>\u001b[0m in \u001b[0;36m<module>\u001b[0;34m\u001b[0m\n\u001b[0;32m----> 1\u001b[0;31m \u001b[0mnp\u001b[0m\u001b[0;34m.\u001b[0m\u001b[0marray\u001b[0m\u001b[0;34m(\u001b[0m\u001b[0mcombined_wk\u001b[0m\u001b[0;34m)\u001b[0m\u001b[0;34m\u001b[0m\u001b[0;34m\u001b[0m\u001b[0m\n\u001b[0m",
      "\u001b[0;31mNameError\u001b[0m: name 'combined_wk' is not defined"
     ]
    }
   ],
   "source": [
    "np.array(combined_wk)"
   ]
  },
  {
   "cell_type": "code",
   "execution_count": 214,
   "metadata": {},
   "outputs": [
    {
     "output_type": "execute_result",
     "data": {
      "text/plain": [
       "True"
      ]
     },
     "metadata": {},
     "execution_count": 214
    }
   ],
   "source": [
    "combined_wk.index.is_unique"
   ]
  },
  {
   "cell_type": "code",
   "execution_count": 204,
   "metadata": {},
   "outputs": [
    {
     "output_type": "execute_result",
     "data": {
      "text/plain": [
       "        WAF\n",
       "1       6.4\n",
       "2       6.2\n",
       "3       9.9\n",
       "4      13.6\n",
       "5       6.9\n",
       "...     ...\n",
       "19996   9.8\n",
       "19997   6.3\n",
       "19998   6.6\n",
       "19999   6.7\n",
       "20000   3.9\n",
       "\n",
       "[20000 rows x 1 columns]"
      ],
      "text/html": "<div>\n<style scoped>\n    .dataframe tbody tr th:only-of-type {\n        vertical-align: middle;\n    }\n\n    .dataframe tbody tr th {\n        vertical-align: top;\n    }\n\n    .dataframe thead th {\n        text-align: right;\n    }\n</style>\n<table border=\"1\" class=\"dataframe\">\n  <thead>\n    <tr style=\"text-align: right;\">\n      <th></th>\n      <th>WAF</th>\n    </tr>\n  </thead>\n  <tbody>\n    <tr>\n      <th>1</th>\n      <td>6.4</td>\n    </tr>\n    <tr>\n      <th>2</th>\n      <td>6.2</td>\n    </tr>\n    <tr>\n      <th>3</th>\n      <td>9.9</td>\n    </tr>\n    <tr>\n      <th>4</th>\n      <td>13.6</td>\n    </tr>\n    <tr>\n      <th>5</th>\n      <td>6.9</td>\n    </tr>\n    <tr>\n      <th>...</th>\n      <td>...</td>\n    </tr>\n    <tr>\n      <th>19996</th>\n      <td>9.8</td>\n    </tr>\n    <tr>\n      <th>19997</th>\n      <td>6.3</td>\n    </tr>\n    <tr>\n      <th>19998</th>\n      <td>6.6</td>\n    </tr>\n    <tr>\n      <th>19999</th>\n      <td>6.7</td>\n    </tr>\n    <tr>\n      <th>20000</th>\n      <td>3.9</td>\n    </tr>\n  </tbody>\n</table>\n<p>20000 rows × 1 columns</p>\n</div>"
     },
     "metadata": {},
     "execution_count": 204
    }
   ],
   "source": [
    "combined_wk.sort_index()"
   ]
  },
  {
   "cell_type": "code",
   "execution_count": 200,
   "metadata": {},
   "outputs": [
    {
     "output_type": "execute_result",
     "data": {
      "text/plain": [
       "        WAF\n",
       "2143    3.9\n",
       "12321   4.1\n",
       "8423    4.1\n",
       "17124   4.1\n",
       "11651   4.1\n",
       "...     ...\n",
       "18605  26.1\n",
       "13489  27.3\n",
       "2859   27.9\n",
       "11329  29.0\n",
       "14523  29.2\n",
       "\n",
       "[20000 rows x 1 columns]"
      ],
      "text/html": "<div>\n<style scoped>\n    .dataframe tbody tr th:only-of-type {\n        vertical-align: middle;\n    }\n\n    .dataframe tbody tr th {\n        vertical-align: top;\n    }\n\n    .dataframe thead th {\n        text-align: right;\n    }\n</style>\n<table border=\"1\" class=\"dataframe\">\n  <thead>\n    <tr style=\"text-align: right;\">\n      <th></th>\n      <th>WAF</th>\n    </tr>\n  </thead>\n  <tbody>\n    <tr>\n      <th>2143</th>\n      <td>3.9</td>\n    </tr>\n    <tr>\n      <th>12321</th>\n      <td>4.1</td>\n    </tr>\n    <tr>\n      <th>8423</th>\n      <td>4.1</td>\n    </tr>\n    <tr>\n      <th>17124</th>\n      <td>4.1</td>\n    </tr>\n    <tr>\n      <th>11651</th>\n      <td>4.1</td>\n    </tr>\n    <tr>\n      <th>...</th>\n      <td>...</td>\n    </tr>\n    <tr>\n      <th>18605</th>\n      <td>26.1</td>\n    </tr>\n    <tr>\n      <th>13489</th>\n      <td>27.3</td>\n    </tr>\n    <tr>\n      <th>2859</th>\n      <td>27.9</td>\n    </tr>\n    <tr>\n      <th>11329</th>\n      <td>29.0</td>\n    </tr>\n    <tr>\n      <th>14523</th>\n      <td>29.2</td>\n    </tr>\n  </tbody>\n</table>\n<p>20000 rows × 1 columns</p>\n</div>"
     },
     "metadata": {},
     "execution_count": 200
    }
   ],
   "source": [
    "sorted_df_external_metric.drop(combined_wk.index)"
   ]
  },
  {
   "cell_type": "code",
   "execution_count": 196,
   "metadata": {},
   "outputs": [
    {
     "output_type": "execute_result",
     "data": {
      "text/plain": [
       "Int64Index([ 2143, 12321,  8423, 17124, 11651, 19929,  7922,   593,  6930,\n",
       "             7185,\n",
       "            ...\n",
       "            13431,   355, 16799, 16783,  2377, 17525, 14671,  4025, 12628,\n",
       "            10358],\n",
       "           dtype='int64', length=1338)"
      ]
     },
     "metadata": {},
     "execution_count": 196
    }
   ],
   "source": [
    "combined_wk.index"
   ]
  },
  {
   "source": [
    "f_wk_sample_size"
   ],
   "cell_type": "code",
   "metadata": {},
   "execution_count": 173,
   "outputs": [
    {
     "output_type": "execute_result",
     "data": {
      "text/plain": [
       "1338"
      ]
     },
     "metadata": {},
     "execution_count": 173
    }
   ]
  },
  {
   "cell_type": "code",
   "execution_count": 174,
   "metadata": {},
   "outputs": [
    {
     "output_type": "execute_result",
     "data": {
      "text/plain": [
       "20000"
      ]
     },
     "metadata": {},
     "execution_count": 174
    }
   ],
   "source": [
    "14*1333+1338"
   ]
  },
  {
   "cell_type": "code",
   "execution_count": 165,
   "metadata": {},
   "outputs": [
    {
     "output_type": "execute_result",
     "data": {
      "text/plain": [
       "        WAF\n",
       "2143    3.9\n",
       "12321   4.1\n",
       "8423    4.1\n",
       "17124   4.1\n",
       "11651   4.1\n",
       "...     ...\n",
       "18605  26.1\n",
       "13489  27.3\n",
       "2859   27.9\n",
       "11329  29.0\n",
       "14523  29.2\n",
       "\n",
       "[20000 rows x 1 columns]"
      ],
      "text/html": "<div>\n<style scoped>\n    .dataframe tbody tr th:only-of-type {\n        vertical-align: middle;\n    }\n\n    .dataframe tbody tr th {\n        vertical-align: top;\n    }\n\n    .dataframe thead th {\n        text-align: right;\n    }\n</style>\n<table border=\"1\" class=\"dataframe\">\n  <thead>\n    <tr style=\"text-align: right;\">\n      <th></th>\n      <th>WAF</th>\n    </tr>\n  </thead>\n  <tbody>\n    <tr>\n      <th>2143</th>\n      <td>3.9</td>\n    </tr>\n    <tr>\n      <th>12321</th>\n      <td>4.1</td>\n    </tr>\n    <tr>\n      <th>8423</th>\n      <td>4.1</td>\n    </tr>\n    <tr>\n      <th>17124</th>\n      <td>4.1</td>\n    </tr>\n    <tr>\n      <th>11651</th>\n      <td>4.1</td>\n    </tr>\n    <tr>\n      <th>...</th>\n      <td>...</td>\n    </tr>\n    <tr>\n      <th>18605</th>\n      <td>26.1</td>\n    </tr>\n    <tr>\n      <th>13489</th>\n      <td>27.3</td>\n    </tr>\n    <tr>\n      <th>2859</th>\n      <td>27.9</td>\n    </tr>\n    <tr>\n      <th>11329</th>\n      <td>29.0</td>\n    </tr>\n    <tr>\n      <th>14523</th>\n      <td>29.2</td>\n    </tr>\n  </tbody>\n</table>\n<p>20000 rows × 1 columns</p>\n</div>"
     },
     "metadata": {},
     "execution_count": 165
    }
   ],
   "source": [
    "wk_df_external_metrics[wk].sort_values(by=['WAF'])"
   ]
  },
  {
   "cell_type": "code",
   "execution_count": 179,
   "metadata": {},
   "outputs": [],
   "source": [
    "import pandas as pd\n",
    "import numpy as np\n",
    "from sklearn.metrics import mean_squared_error as MSE"
   ]
  },
  {
   "cell_type": "code",
   "execution_count": 241,
   "metadata": {},
   "outputs": [
    {
     "output_type": "execute_result",
     "data": {
      "text/plain": [
       "   WAF\n",
       "1  8.2\n",
       "2  7.2\n",
       "3  7.2\n",
       "4  8.5\n",
       "5  7.5"
      ],
      "text/html": "<div>\n<style scoped>\n    .dataframe tbody tr th:only-of-type {\n        vertical-align: middle;\n    }\n\n    .dataframe tbody tr th {\n        vertical-align: top;\n    }\n\n    .dataframe thead th {\n        text-align: right;\n    }\n</style>\n<table border=\"1\" class=\"dataframe\">\n  <thead>\n    <tr style=\"text-align: right;\">\n      <th></th>\n      <th>WAF</th>\n    </tr>\n  </thead>\n  <tbody>\n    <tr>\n      <th>1</th>\n      <td>8.2</td>\n    </tr>\n    <tr>\n      <th>2</th>\n      <td>7.2</td>\n    </tr>\n    <tr>\n      <th>3</th>\n      <td>7.2</td>\n    </tr>\n    <tr>\n      <th>4</th>\n      <td>8.5</td>\n    </tr>\n    <tr>\n      <th>5</th>\n      <td>7.5</td>\n    </tr>\n  </tbody>\n</table>\n</div>"
     },
     "metadata": {},
     "execution_count": 241
    }
   ],
   "source": [
    "combi_wk = pd.read_csv('combined_wk/210701_combined_wk_0.csv', index_col=0)\n",
    "combi_wk.head()"
   ]
  },
  {
   "cell_type": "code",
   "execution_count": 242,
   "metadata": {},
   "outputs": [
    {
     "output_type": "execute_result",
     "data": {
      "text/plain": [
       "    WAF\n",
       "0   8.7\n",
       "1   8.9\n",
       "2   7.5\n",
       "3  10.5\n",
       "4  11.6"
      ],
      "text/html": "<div>\n<style scoped>\n    .dataframe tbody tr th:only-of-type {\n        vertical-align: middle;\n    }\n\n    .dataframe tbody tr th {\n        vertical-align: top;\n    }\n\n    .dataframe thead th {\n        text-align: right;\n    }\n</style>\n<table border=\"1\" class=\"dataframe\">\n  <thead>\n    <tr style=\"text-align: right;\">\n      <th></th>\n      <th>WAF</th>\n    </tr>\n  </thead>\n  <tbody>\n    <tr>\n      <th>0</th>\n      <td>8.7</td>\n    </tr>\n    <tr>\n      <th>1</th>\n      <td>8.9</td>\n    </tr>\n    <tr>\n      <th>2</th>\n      <td>7.5</td>\n    </tr>\n    <tr>\n      <th>3</th>\n      <td>10.5</td>\n    </tr>\n    <tr>\n      <th>4</th>\n      <td>11.6</td>\n    </tr>\n  </tbody>\n</table>\n</div>"
     },
     "metadata": {},
     "execution_count": 242
    }
   ],
   "source": [
    "target_wk = pd.read_csv('../data/rocksdb_data/results/external/external_results_0.csv')\n",
    "target_waf = target_wk[['WAF']]\n",
    "target_waf.head()"
   ]
  },
  {
   "cell_type": "code",
   "execution_count": 243,
   "metadata": {},
   "outputs": [],
   "source": [
    "combi_wk = combi_wk.reset_index(drop=True)"
   ]
  },
  {
   "cell_type": "code",
   "execution_count": 244,
   "metadata": {},
   "outputs": [
    {
     "output_type": "execute_result",
     "data": {
      "text/plain": [
       "WAF  \n",
       "False    19139\n",
       "True       861\n",
       "dtype: int64"
      ]
     },
     "metadata": {},
     "execution_count": 244
    }
   ],
   "source": [
    "(combi_wk[['WAF']] == target_waf[['WAF']]).value_counts()"
   ]
  },
  {
   "cell_type": "code",
   "execution_count": 245,
   "metadata": {},
   "outputs": [
    {
     "output_type": "execute_result",
     "data": {
      "text/plain": [
       "8.117584"
      ]
     },
     "metadata": {},
     "execution_count": 245
    }
   ],
   "source": [
    "MSE(combi_wk['WAF'].values, target_waf['WAF'].values)"
   ]
  },
  {
   "cell_type": "code",
   "execution_count": 247,
   "metadata": {},
   "outputs": [
    {
     "output_type": "stream",
     "name": "stdout",
     "text": [
      "1 workload MSE: 0.0\n",
      "2 workload MSE: 4.085368\n",
      "3 workload MSE: 11.276116\n",
      "4 workload MSE: 13.9992035\n",
      "5 workload MSE: 7.179591499999999\n",
      "6 workload MSE: 8.648807500000002\n",
      "7 workload MSE: 12.523487\n",
      "8 workload MSE: 14.043045999999999\n",
      "9 workload MSE: 8.7440805\n",
      "10 workload MSE: 11.7974105\n",
      "11 workload MSE: 12.677317500000001\n",
      "12 workload MSE: 12.993538\n",
      "13 workload MSE: 14.198298000000001\n",
      "14 workload MSE: 8.4011745\n",
      "15 workload MSE: 9.860332000000001\n",
      "16 workload MSE: 10.5773895\n"
     ]
    }
   ],
   "source": [
    "for i in range(16):\n",
    "    target_wk = pd.read_csv('../data/rocksdb_data/results/external/external_results_0.csv')\n",
    "    train_wk = pd.read_csv(f'../data/rocksdb_data/results/external/external_results_{i}.csv')\n",
    "    target_waf = target_wk[['WAF']]\n",
    "    train_waf = train_wk[['WAF']]\n",
    "    mse = MSE(train_waf['WAF'].values, target_waf['WAF'].values)\n",
    "    print(f'{i+1} workload MSE: {mse}')\n",
    "    num = (train_waf[['WAF']] == target_waf[['WAF']]).value_counts()\n",
    "    # print(f'{i+1} workload same value numbers: \\n{num}')"
   ]
  },
  {
   "cell_type": "code",
   "execution_count": null,
   "metadata": {},
   "outputs": [],
   "source": []
  }
 ]
}