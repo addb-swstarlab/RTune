{
 "metadata": {
  "language_info": {
   "codemirror_mode": {
    "name": "ipython",
    "version": 3
   },
   "file_extension": ".py",
   "mimetype": "text/x-python",
   "name": "python",
   "nbconvert_exporter": "python",
   "pygments_lexer": "ipython3",
   "version": "3.7.10"
  },
  "orig_nbformat": 4,
  "kernelspec": {
   "name": "py3.7",
   "display_name": "Python 3.7.10 64-bit ('py3.7': conda)"
  }
 },
 "nbformat": 4,
 "nbformat_minor": 2,
 "cells": [
  {
   "cell_type": "code",
   "execution_count": 1,
   "metadata": {},
   "outputs": [],
   "source": [
    "import utils, os\n",
    "import numpy as np\n",
    "import pandas as pd\n",
    "from sklearn.preprocessing import StandardScaler"
   ]
  },
  {
   "cell_type": "code",
   "execution_count": 2,
   "metadata": {},
   "outputs": [],
   "source": [
    "DATA_PATH = \"../data/{}_data\".format('rocksdb')\n",
    "knobs_path = os.path.join(DATA_PATH, \"configs\")"
   ]
  },
  {
   "cell_type": "code",
   "execution_count": 3,
   "metadata": {},
   "outputs": [],
   "source": [
    "from knobs import load_knobs\n",
    "knob_data = load_knobs(knobs_path, 'rocksdb')\n",
    "config = knob_data['data']"
   ]
  },
  {
   "cell_type": "code",
   "execution_count": 125,
   "metadata": {},
   "outputs": [
    {
     "output_type": "execute_result",
     "data": {
      "text/plain": [
       "array([['6', '16', '1304576', ..., '8', '0.1', '0.67'],\n",
       "       ['2', '14', '911360', ..., '5', '0.15', '0.5'],\n",
       "       ['8', '6', '1474560', ..., '6', '0.05', '0.36'],\n",
       "       ...,\n",
       "       ['6', '12', '730112', ..., '6', '0', '0.21'],\n",
       "       ['9', '11', '1430528', ..., '7', '0', '0.77'],\n",
       "       ['16', '12', '1027072', ..., '8', '0.2', '0.37']], dtype='<U21')"
      ]
     },
     "metadata": {},
     "execution_count": 125
    }
   ],
   "source": [
    "config"
   ]
  },
  {
   "cell_type": "code",
   "execution_count": 127,
   "metadata": {},
   "outputs": [],
   "source": [
    "df_internal = pd.read_csv('df_internal.csv', index_col=0)"
   ]
  },
  {
   "cell_type": "code",
   "execution_count": 82,
   "metadata": {},
   "outputs": [
    {
     "output_type": "execute_result",
     "data": {
      "text/plain": [
       "datetime.datetime(2021, 7, 2, 8, 29, 34, 747877)"
      ]
     },
     "metadata": {},
     "execution_count": 82
    }
   ],
   "source": [
    "from datetime import datetime\n",
    "datetime.now()"
   ]
  },
  {
   "cell_type": "code",
   "execution_count": 128,
   "metadata": {},
   "outputs": [
    {
     "output_type": "execute_result",
     "data": {
      "text/plain": [
       "        rocksdb.block.cache.index.bytes.insert COUNT  \\\n",
       "1                                                0.0   \n",
       "2                                          5078096.0   \n",
       "3                                                0.0   \n",
       "4                                          6993856.0   \n",
       "5                                                0.0   \n",
       "...                                              ...   \n",
       "299996                                    22686368.0   \n",
       "299997                                    35480480.0   \n",
       "299998                                    65057264.0   \n",
       "299999                                    47501440.0   \n",
       "300000                                    39530992.0   \n",
       "\n",
       "        rocksdb.block.cache.data.bytes.insert COUNT  \\\n",
       "1                                      1.028127e+10   \n",
       "2                                      1.848275e+10   \n",
       "3                                      8.395153e+09   \n",
       "4                                      4.063747e+09   \n",
       "5                                      5.739127e+09   \n",
       "...                                             ...   \n",
       "299996                                 1.023711e+10   \n",
       "299997                                 1.613895e+10   \n",
       "299998                                 2.236193e+10   \n",
       "299999                                 2.357382e+10   \n",
       "300000                                 2.653197e+10   \n",
       "\n",
       "        rocksdb.block.cache.bytes.read COUNT  \\\n",
       "1                               9.941989e+09   \n",
       "2                               2.999516e+10   \n",
       "3                               1.401106e+10   \n",
       "4                               3.267846e+10   \n",
       "5                               1.154616e+10   \n",
       "...                                      ...   \n",
       "299996                          3.720634e+09   \n",
       "299997                          1.935212e+09   \n",
       "299998                          2.307843e+09   \n",
       "299999                          2.216266e+09   \n",
       "300000                          2.427338e+09   \n",
       "\n",
       "        rocksdb.block.cache.bytes.write COUNT  \\\n",
       "1                                1.028127e+10   \n",
       "2                                1.848782e+10   \n",
       "3                                8.395153e+09   \n",
       "4                                4.070741e+09   \n",
       "5                                5.739127e+09   \n",
       "...                                       ...   \n",
       "299996                           1.025979e+10   \n",
       "299997                           1.617443e+10   \n",
       "299998                           2.242699e+10   \n",
       "299999                           2.362132e+10   \n",
       "300000                           2.657150e+10   \n",
       "\n",
       "        rocksdb.number.keys.written COUNT  rocksdb.bytes.written COUNT  \\\n",
       "1                                103240.0                 1.090214e+08   \n",
       "2                                103240.0                 1.090214e+08   \n",
       "3                                103240.0                 1.090214e+08   \n",
       "4                                103240.0                 1.090214e+08   \n",
       "5                                103240.0                 1.090214e+08   \n",
       "...                                   ...                          ...   \n",
       "299996                            16380.0                 1.074020e+09   \n",
       "299997                            16380.0                 1.074020e+09   \n",
       "299998                            16380.0                 1.074020e+09   \n",
       "299999                            16380.0                 1.074020e+09   \n",
       "300000                            16380.0                 1.074020e+09   \n",
       "\n",
       "        rocksdb.bytes.read COUNT  rocksdb.compact.read.bytes COUNT  \\\n",
       "1                     46052352.0                      5.120283e+08   \n",
       "2                     46052352.0                      4.063295e+08   \n",
       "3                     46052352.0                      2.030932e+08   \n",
       "4                     46052352.0                      4.498398e+08   \n",
       "5                     46052352.0                      9.502377e+08   \n",
       "...                          ...                               ...   \n",
       "299996               394919936.0                      7.537302e+09   \n",
       "299997               394919936.0                      4.869616e+09   \n",
       "299998               394919936.0                      5.483760e+09   \n",
       "299999               394919936.0                      5.150225e+09   \n",
       "300000               394919936.0                      6.314635e+09   \n",
       "\n",
       "        rocksdb.compact.write.bytes COUNT  rocksdb.flush.write.bytes COUNT  \\\n",
       "1                            6.157422e+08                     8.008942e+07   \n",
       "2                            4.934369e+08                     6.224329e+07   \n",
       "3                            2.519314e+08                     3.854138e+07   \n",
       "4                            6.040803e+08                     6.369200e+07   \n",
       "5                            1.155395e+09                     1.087593e+08   \n",
       "...                                   ...                              ...   \n",
       "299996                       7.321495e+09                     8.530788e+08   \n",
       "299997                       4.666409e+09                     7.952635e+08   \n",
       "299998                       5.179741e+09                     1.074387e+09   \n",
       "299999                       4.882894e+09                     8.811480e+08   \n",
       "300000                       5.992642e+09                     1.074727e+09   \n",
       "\n",
       "        rocksdb.db.get.micros_SUM  rocksdb.compaction.times.micros_SUM  \\\n",
       "1                      18563440.0                            7895195.0   \n",
       "2                      23131605.0                            6844844.0   \n",
       "3                      47773347.0                           16835789.0   \n",
       "4                      45743113.0                           40869151.0   \n",
       "5                      16140467.0                           15810218.0   \n",
       "...                           ...                                  ...   \n",
       "299996                 74165801.0                          429331855.0   \n",
       "299997                 11232542.0                          222339166.0   \n",
       "299998                 10399679.0                          210308383.0   \n",
       "299999                 15129288.0                          347813343.0   \n",
       "300000                 13391274.0                          642641914.0   \n",
       "\n",
       "        rocksdb.compaction.times.cpu_micros_SUM  \\\n",
       "1                                     4795410.0   \n",
       "2                                     4078981.0   \n",
       "3                                    15438692.0   \n",
       "4                                    35166759.0   \n",
       "5                                     5960147.0   \n",
       "...                                         ...   \n",
       "299996                              372026469.0   \n",
       "299997                               28571483.0   \n",
       "299998                               13076540.0   \n",
       "299999                               34650113.0   \n",
       "300000                               21123327.0   \n",
       "\n",
       "        rocksdb.compaction.outfile.sync.micros_SUM  \\\n",
       "1                                        3490987.0   \n",
       "2                                        3065675.0   \n",
       "3                                        1518784.0   \n",
       "4                                        6310433.0   \n",
       "5                                       11209309.0   \n",
       "...                                            ...   \n",
       "299996                                  60434095.0   \n",
       "299997                                 172240874.0   \n",
       "299998                                 193076677.0   \n",
       "299999                                 273682795.0   \n",
       "300000                                 531581176.0   \n",
       "\n",
       "        rocksdb.read.block.get.micros_SUM  rocksdb.write.raw.block.micros_SUM  \\\n",
       "1                              10093511.0                            675266.0   \n",
       "2                              13138385.0                            563572.0   \n",
       "3                              39725825.0                            351570.0   \n",
       "4                              38155062.0                            579668.0   \n",
       "5                               6313887.0                            878715.0   \n",
       "...                                   ...                                 ...   \n",
       "299996                        138502219.0                          13122498.0   \n",
       "299997                         13595896.0                          23866762.0   \n",
       "299998                         10474154.0                          15821068.0   \n",
       "299999                         16547228.0                          33341129.0   \n",
       "300000                         12990925.0                          34344708.0   \n",
       "\n",
       "        rocksdb.db.write.stall_SUM  rocksdb.bytes.compressed_SUM  \\\n",
       "1                              0.0                  9.455585e+08   \n",
       "2                              0.0                  9.731407e+08   \n",
       "3                              0.0                  8.290138e+08   \n",
       "4                              0.0                  1.152080e+09   \n",
       "5                              0.0                  0.000000e+00   \n",
       "...                            ...                           ...   \n",
       "299996                 319668804.0                  1.030899e+10   \n",
       "299997                  29493424.0                  7.375394e+09   \n",
       "299998                  26382941.0                  0.000000e+00   \n",
       "299999                  35828468.0                  7.024146e+09   \n",
       "300000                  56229131.0                  0.000000e+00   \n",
       "\n",
       "        rocksdb.bytes.decompressed_SUM  rocksdb.db.flush.micros_SUM  \n",
       "1                         1.085698e+10                    1015663.0  \n",
       "2                         1.907463e+10                    1074316.0  \n",
       "3                         8.847110e+09                    2692570.0  \n",
       "4                         4.718849e+09                    5221234.0  \n",
       "5                         0.000000e+00                    1069187.0  \n",
       "...                                ...                          ...  \n",
       "299996                    1.974344e+10                   63568349.0  \n",
       "299997                    2.272175e+10                   52394966.0  \n",
       "299998                    0.000000e+00                  110958999.0  \n",
       "299999                    2.985804e+10                  122847370.0  \n",
       "300000                    0.000000e+00                  163852663.0  \n",
       "\n",
       "[300000 rows x 20 columns]"
      ],
      "text/html": "<div>\n<style scoped>\n    .dataframe tbody tr th:only-of-type {\n        vertical-align: middle;\n    }\n\n    .dataframe tbody tr th {\n        vertical-align: top;\n    }\n\n    .dataframe thead th {\n        text-align: right;\n    }\n</style>\n<table border=\"1\" class=\"dataframe\">\n  <thead>\n    <tr style=\"text-align: right;\">\n      <th></th>\n      <th>rocksdb.block.cache.index.bytes.insert COUNT</th>\n      <th>rocksdb.block.cache.data.bytes.insert COUNT</th>\n      <th>rocksdb.block.cache.bytes.read COUNT</th>\n      <th>rocksdb.block.cache.bytes.write COUNT</th>\n      <th>rocksdb.number.keys.written COUNT</th>\n      <th>rocksdb.bytes.written COUNT</th>\n      <th>rocksdb.bytes.read COUNT</th>\n      <th>rocksdb.compact.read.bytes COUNT</th>\n      <th>rocksdb.compact.write.bytes COUNT</th>\n      <th>rocksdb.flush.write.bytes COUNT</th>\n      <th>rocksdb.db.get.micros_SUM</th>\n      <th>rocksdb.compaction.times.micros_SUM</th>\n      <th>rocksdb.compaction.times.cpu_micros_SUM</th>\n      <th>rocksdb.compaction.outfile.sync.micros_SUM</th>\n      <th>rocksdb.read.block.get.micros_SUM</th>\n      <th>rocksdb.write.raw.block.micros_SUM</th>\n      <th>rocksdb.db.write.stall_SUM</th>\n      <th>rocksdb.bytes.compressed_SUM</th>\n      <th>rocksdb.bytes.decompressed_SUM</th>\n      <th>rocksdb.db.flush.micros_SUM</th>\n    </tr>\n  </thead>\n  <tbody>\n    <tr>\n      <th>1</th>\n      <td>0.0</td>\n      <td>1.028127e+10</td>\n      <td>9.941989e+09</td>\n      <td>1.028127e+10</td>\n      <td>103240.0</td>\n      <td>1.090214e+08</td>\n      <td>46052352.0</td>\n      <td>5.120283e+08</td>\n      <td>6.157422e+08</td>\n      <td>8.008942e+07</td>\n      <td>18563440.0</td>\n      <td>7895195.0</td>\n      <td>4795410.0</td>\n      <td>3490987.0</td>\n      <td>10093511.0</td>\n      <td>675266.0</td>\n      <td>0.0</td>\n      <td>9.455585e+08</td>\n      <td>1.085698e+10</td>\n      <td>1015663.0</td>\n    </tr>\n    <tr>\n      <th>2</th>\n      <td>5078096.0</td>\n      <td>1.848275e+10</td>\n      <td>2.999516e+10</td>\n      <td>1.848782e+10</td>\n      <td>103240.0</td>\n      <td>1.090214e+08</td>\n      <td>46052352.0</td>\n      <td>4.063295e+08</td>\n      <td>4.934369e+08</td>\n      <td>6.224329e+07</td>\n      <td>23131605.0</td>\n      <td>6844844.0</td>\n      <td>4078981.0</td>\n      <td>3065675.0</td>\n      <td>13138385.0</td>\n      <td>563572.0</td>\n      <td>0.0</td>\n      <td>9.731407e+08</td>\n      <td>1.907463e+10</td>\n      <td>1074316.0</td>\n    </tr>\n    <tr>\n      <th>3</th>\n      <td>0.0</td>\n      <td>8.395153e+09</td>\n      <td>1.401106e+10</td>\n      <td>8.395153e+09</td>\n      <td>103240.0</td>\n      <td>1.090214e+08</td>\n      <td>46052352.0</td>\n      <td>2.030932e+08</td>\n      <td>2.519314e+08</td>\n      <td>3.854138e+07</td>\n      <td>47773347.0</td>\n      <td>16835789.0</td>\n      <td>15438692.0</td>\n      <td>1518784.0</td>\n      <td>39725825.0</td>\n      <td>351570.0</td>\n      <td>0.0</td>\n      <td>8.290138e+08</td>\n      <td>8.847110e+09</td>\n      <td>2692570.0</td>\n    </tr>\n    <tr>\n      <th>4</th>\n      <td>6993856.0</td>\n      <td>4.063747e+09</td>\n      <td>3.267846e+10</td>\n      <td>4.070741e+09</td>\n      <td>103240.0</td>\n      <td>1.090214e+08</td>\n      <td>46052352.0</td>\n      <td>4.498398e+08</td>\n      <td>6.040803e+08</td>\n      <td>6.369200e+07</td>\n      <td>45743113.0</td>\n      <td>40869151.0</td>\n      <td>35166759.0</td>\n      <td>6310433.0</td>\n      <td>38155062.0</td>\n      <td>579668.0</td>\n      <td>0.0</td>\n      <td>1.152080e+09</td>\n      <td>4.718849e+09</td>\n      <td>5221234.0</td>\n    </tr>\n    <tr>\n      <th>5</th>\n      <td>0.0</td>\n      <td>5.739127e+09</td>\n      <td>1.154616e+10</td>\n      <td>5.739127e+09</td>\n      <td>103240.0</td>\n      <td>1.090214e+08</td>\n      <td>46052352.0</td>\n      <td>9.502377e+08</td>\n      <td>1.155395e+09</td>\n      <td>1.087593e+08</td>\n      <td>16140467.0</td>\n      <td>15810218.0</td>\n      <td>5960147.0</td>\n      <td>11209309.0</td>\n      <td>6313887.0</td>\n      <td>878715.0</td>\n      <td>0.0</td>\n      <td>0.000000e+00</td>\n      <td>0.000000e+00</td>\n      <td>1069187.0</td>\n    </tr>\n    <tr>\n      <th>...</th>\n      <td>...</td>\n      <td>...</td>\n      <td>...</td>\n      <td>...</td>\n      <td>...</td>\n      <td>...</td>\n      <td>...</td>\n      <td>...</td>\n      <td>...</td>\n      <td>...</td>\n      <td>...</td>\n      <td>...</td>\n      <td>...</td>\n      <td>...</td>\n      <td>...</td>\n      <td>...</td>\n      <td>...</td>\n      <td>...</td>\n      <td>...</td>\n      <td>...</td>\n    </tr>\n    <tr>\n      <th>299996</th>\n      <td>22686368.0</td>\n      <td>1.023711e+10</td>\n      <td>3.720634e+09</td>\n      <td>1.025979e+10</td>\n      <td>16380.0</td>\n      <td>1.074020e+09</td>\n      <td>394919936.0</td>\n      <td>7.537302e+09</td>\n      <td>7.321495e+09</td>\n      <td>8.530788e+08</td>\n      <td>74165801.0</td>\n      <td>429331855.0</td>\n      <td>372026469.0</td>\n      <td>60434095.0</td>\n      <td>138502219.0</td>\n      <td>13122498.0</td>\n      <td>319668804.0</td>\n      <td>1.030899e+10</td>\n      <td>1.974344e+10</td>\n      <td>63568349.0</td>\n    </tr>\n    <tr>\n      <th>299997</th>\n      <td>35480480.0</td>\n      <td>1.613895e+10</td>\n      <td>1.935212e+09</td>\n      <td>1.617443e+10</td>\n      <td>16380.0</td>\n      <td>1.074020e+09</td>\n      <td>394919936.0</td>\n      <td>4.869616e+09</td>\n      <td>4.666409e+09</td>\n      <td>7.952635e+08</td>\n      <td>11232542.0</td>\n      <td>222339166.0</td>\n      <td>28571483.0</td>\n      <td>172240874.0</td>\n      <td>13595896.0</td>\n      <td>23866762.0</td>\n      <td>29493424.0</td>\n      <td>7.375394e+09</td>\n      <td>2.272175e+10</td>\n      <td>52394966.0</td>\n    </tr>\n    <tr>\n      <th>299998</th>\n      <td>65057264.0</td>\n      <td>2.236193e+10</td>\n      <td>2.307843e+09</td>\n      <td>2.242699e+10</td>\n      <td>16380.0</td>\n      <td>1.074020e+09</td>\n      <td>394919936.0</td>\n      <td>5.483760e+09</td>\n      <td>5.179741e+09</td>\n      <td>1.074387e+09</td>\n      <td>10399679.0</td>\n      <td>210308383.0</td>\n      <td>13076540.0</td>\n      <td>193076677.0</td>\n      <td>10474154.0</td>\n      <td>15821068.0</td>\n      <td>26382941.0</td>\n      <td>0.000000e+00</td>\n      <td>0.000000e+00</td>\n      <td>110958999.0</td>\n    </tr>\n    <tr>\n      <th>299999</th>\n      <td>47501440.0</td>\n      <td>2.357382e+10</td>\n      <td>2.216266e+09</td>\n      <td>2.362132e+10</td>\n      <td>16380.0</td>\n      <td>1.074020e+09</td>\n      <td>394919936.0</td>\n      <td>5.150225e+09</td>\n      <td>4.882894e+09</td>\n      <td>8.811480e+08</td>\n      <td>15129288.0</td>\n      <td>347813343.0</td>\n      <td>34650113.0</td>\n      <td>273682795.0</td>\n      <td>16547228.0</td>\n      <td>33341129.0</td>\n      <td>35828468.0</td>\n      <td>7.024146e+09</td>\n      <td>2.985804e+10</td>\n      <td>122847370.0</td>\n    </tr>\n    <tr>\n      <th>300000</th>\n      <td>39530992.0</td>\n      <td>2.653197e+10</td>\n      <td>2.427338e+09</td>\n      <td>2.657150e+10</td>\n      <td>16380.0</td>\n      <td>1.074020e+09</td>\n      <td>394919936.0</td>\n      <td>6.314635e+09</td>\n      <td>5.992642e+09</td>\n      <td>1.074727e+09</td>\n      <td>13391274.0</td>\n      <td>642641914.0</td>\n      <td>21123327.0</td>\n      <td>531581176.0</td>\n      <td>12990925.0</td>\n      <td>34344708.0</td>\n      <td>56229131.0</td>\n      <td>0.000000e+00</td>\n      <td>0.000000e+00</td>\n      <td>163852663.0</td>\n    </tr>\n  </tbody>\n</table>\n<p>300000 rows × 20 columns</p>\n</div>"
     },
     "metadata": {},
     "execution_count": 128
    }
   ],
   "source": [
    "df_internal"
   ]
  },
  {
   "cell_type": "code",
   "execution_count": 4,
   "metadata": {},
   "outputs": [],
   "source": [
    "from metrics import load_metrics"
   ]
  },
  {
   "cell_type": "code",
   "execution_count": 5,
   "metadata": {},
   "outputs": [],
   "source": [
    "target_external = \"WAF\"\n",
    "wk_internal_metrics_path = os.path.join(DATA_PATH, 'results', 'internal')\n",
    "wk_external_metrics_path = os.path.join(DATA_PATH, 'results', 'external')\n",
    "wk_internal_metrics_data = []\n",
    "wk_external_metrics_data = []\n",
    "for wk in range(len(os.listdir(wk_internal_metrics_path))):\n",
    "    wk_internal_metric, _ = load_metrics(m_path = os.path.join(wk_internal_metrics_path, \"internal_results_\"+str(wk)+\".csv\"),\n",
    "                                            labels = knob_data['rowlabels'],\n",
    "                                            mode = 'internal')\n",
    "    wk_internal_metrics_data.append(wk_internal_metric)\n",
    "\n",
    "for wk in range(len(os.listdir(wk_external_metrics_path))):\n",
    "    wk_external_metric, _ = load_metrics(m_path = os.path.join(wk_external_metrics_path, \"external_results_\"+str(wk)+\".csv\"),\n",
    "                                            labels = knob_data['rowlabels'],\n",
    "                                            metrics = [target_external],\n",
    "                                            mode = 'external')\n",
    "    wk_external_metrics_data.append(wk_external_metric)   "
   ]
  },
  {
   "cell_type": "code",
   "execution_count": 6,
   "metadata": {},
   "outputs": [
    {
     "output_type": "error",
     "ename": "NameError",
     "evalue": "name 'wk_internal_metrics' is not defined",
     "traceback": [
      "\u001b[0;31m---------------------------------------------------------------------------\u001b[0m",
      "\u001b[0;31mNameError\u001b[0m                                 Traceback (most recent call last)",
      "\u001b[0;32m<ipython-input-6-46cedaa70e8a>\u001b[0m in \u001b[0;36m<module>\u001b[0;34m\u001b[0m\n\u001b[1;32m      2\u001b[0m \u001b[0mdrop_columns\u001b[0m \u001b[0;34m=\u001b[0m \u001b[0;34m[\u001b[0m\u001b[0;34m'count'\u001b[0m\u001b[0;34m,\u001b[0m \u001b[0;34m'min'\u001b[0m\u001b[0;34m,\u001b[0m \u001b[0;34m'max'\u001b[0m\u001b[0;34m]\u001b[0m\u001b[0;34m\u001b[0m\u001b[0;34m\u001b[0m\u001b[0m\n\u001b[1;32m      3\u001b[0m \u001b[0;34m\u001b[0m\u001b[0m\n\u001b[0;32m----> 4\u001b[0;31m \u001b[0;32mfor\u001b[0m \u001b[0mwk_internal_metric\u001b[0m \u001b[0;32min\u001b[0m \u001b[0mwk_internal_metrics\u001b[0m\u001b[0;34m:\u001b[0m\u001b[0;34m\u001b[0m\u001b[0;34m\u001b[0m\u001b[0m\n\u001b[0m\u001b[1;32m      5\u001b[0m     \u001b[0mwk_stats\u001b[0m \u001b[0;34m=\u001b[0m \u001b[0mwk_internal_metric\u001b[0m\u001b[0;34m.\u001b[0m\u001b[0mdescribe\u001b[0m\u001b[0;34m(\u001b[0m\u001b[0;34m)\u001b[0m\u001b[0;34m.\u001b[0m\u001b[0mT\u001b[0m\u001b[0;34m.\u001b[0m\u001b[0mdrop\u001b[0m\u001b[0;34m(\u001b[0m\u001b[0mcolumns\u001b[0m\u001b[0;34m=\u001b[0m\u001b[0mdrop_columns\u001b[0m\u001b[0;34m)\u001b[0m\u001b[0;34m\u001b[0m\u001b[0;34m\u001b[0m\u001b[0m\n\u001b[1;32m      6\u001b[0m     \u001b[0mwk_stats_list\u001b[0m\u001b[0;34m.\u001b[0m\u001b[0mappend\u001b[0m\u001b[0;34m(\u001b[0m\u001b[0mwk_stats\u001b[0m\u001b[0;34m.\u001b[0m\u001b[0mT\u001b[0m\u001b[0;34m)\u001b[0m\u001b[0;34m\u001b[0m\u001b[0;34m\u001b[0m\u001b[0m\n",
      "\u001b[0;31mNameError\u001b[0m: name 'wk_internal_metrics' is not defined"
     ]
    }
   ],
   "source": [
    "wk_stats_list = []\n",
    "drop_columns = ['count', 'min', 'max']\n",
    "\n",
    "for wk_internal_metric in wk_internal_metrics:\n",
    "    wk_stats = wk_internal_metric.describe().T.drop(columns=drop_columns)\n",
    "    wk_stats_list.append(wk_stats.T)"
   ]
  },
  {
   "cell_type": "code",
   "execution_count": 7,
   "metadata": {},
   "outputs": [],
   "source": [
    "pruned_metrics = ['rocksdb.number.keys.written COUNT', 'rocksdb.block.cache.bytes.read COUNT', 'rocksdb.block.cache.data.bytes.insert COUNT', 'rocksdb.bytes.decompressed_SUM', 'rocksdb.block.cache.bytes.write COUNT', 'rocksdb.block.cache.index.bytes.insert COUNT', 'rocksdb.compact.read.bytes COUNT', 'rocksdb.bytes.compressed_SUM', 'rocksdb.compaction.times.micros_SUM', 'rocksdb.flush.write.bytes COUNT', 'rocksdb.bytes.read COUNT', 'rocksdb.compact.write.bytes COUNT', 'rocksdb.bytes.written COUNT', 'rocksdb.compaction.outfile.sync.micros_SUM', 'rocksdb.db.get.micros_SUM', 'rocksdb.db.flush.micros_SUM', 'rocksdb.compaction.times.cpu_micros_SUM', 'rocksdb.write.raw.block.micros_SUM', 'rocksdb.db.write.stall_SUM', 'rocksdb.read.block.get.micros_SUM']\n",
    "metric_idxs = [i for i, metric_name in enumerate(wk_internal_metrics_data[0]['columnlabels']) if metric_name in pruned_metrics]"
   ]
  },
  {
   "cell_type": "code",
   "execution_count": 8,
   "metadata": {},
   "outputs": [],
   "source": [
    "wk_pruned_internal_metrics_data = []\n",
    "for wk_int_met in wk_internal_metrics_data:\n",
    "    wk_int_met['data'] = wk_int_met['data'][:,metric_idxs]\n",
    "    wk_pruned_internal_metrics_data.append(wk_int_met)"
   ]
  },
  {
   "cell_type": "code",
   "execution_count": 9,
   "metadata": {},
   "outputs": [],
   "source": [
    "def numpy_to_df(numpy_):\n",
    "    return pd.DataFrame(numpy_)"
   ]
  },
  {
   "cell_type": "code",
   "execution_count": 10,
   "metadata": {},
   "outputs": [],
   "source": [
    "wk_stats_list = []\n",
    "drop_columns = ['count', 'min', 'max']\n",
    "target_wk = 15\n",
    "target_size = 50\n",
    "\n",
    "for i, wk_internal_metric in enumerate(wk_pruned_internal_metrics_data):\n",
    "    df_wk_internal_metric = numpy_to_df(wk_internal_metric['data'])\n",
    "    if i == target_wk:\n",
    "        df_wk_internal_metric = df_wk_internal_metric.sample(target_size)\n",
    "    wk_stats = df_wk_internal_metric.describe().T.drop(columns=drop_columns)\n",
    "    wk_stats_list.append(wk_stats.T)\n",
    "\n",
    "cov_internal_metrics = pd.concat(wk_stats_list, axis=1).T.cov()"
   ]
  },
  {
   "cell_type": "code",
   "execution_count": 11,
   "metadata": {},
   "outputs": [],
   "source": [
    "int_idx = wk_stats_list[0].columns"
   ]
  },
  {
   "cell_type": "code",
   "execution_count": 12,
   "metadata": {},
   "outputs": [],
   "source": [
    "from scipy.spatial import distance"
   ]
  },
  {
   "cell_type": "code",
   "execution_count": 15,
   "metadata": {},
   "outputs": [],
   "source": [
    "# wk_mah_dis = []\n",
    "wk_mah_dis = {}\n",
    "for wk, wk_stats in enumerate(wk_stats_list):\n",
    "    # if wk != target_wk:\n",
    "    sum_d = 0\n",
    "    for idx in int_idx:\n",
    "        d = distance.mahalanobis(u=wk_stats[idx], v=wk_stats_list[target_wk][idx], VI=np.linalg.pinv(cov_internal_metrics))\n",
    "        sum_d += d\n",
    "    wk_mah_dis[wk] = sum_d"
   ]
  },
  {
   "cell_type": "code",
   "execution_count": 37,
   "metadata": {},
   "outputs": [
    {
     "output_type": "execute_result",
     "data": {
      "text/plain": [
       "{0: 41.46313352626349,\n",
       " 1: 34.02466556035429,\n",
       " 2: 33.572909243861744,\n",
       " 3: 32.08183114685201,\n",
       " 4: 38.22066171625489,\n",
       " 5: 34.97549322532919,\n",
       " 6: 31.366376533337927,\n",
       " 7: 29.971842227695316,\n",
       " 8: 44.64470287212374,\n",
       " 9: 36.44898541940156,\n",
       " 10: 32.74039449010933,\n",
       " 11: 32.11533948742283,\n",
       " 12: 62.67093208671621,\n",
       " 13: 45.440422842173504,\n",
       " 14: 30.689102725203956,\n",
       " 15: 0.0}"
      ]
     },
     "metadata": {},
     "execution_count": 37
    }
   ],
   "source": [
    "wk_mah_dis"
   ]
  },
  {
   "cell_type": "code",
   "execution_count": 42,
   "metadata": {},
   "outputs": [],
   "source": [
    "sub_max_mah = {}\n",
    "reverse_score = {}\n",
    "for key in wk_mah_dis.keys():\n",
    "    sub_max_mah[key] = max(wk_mah_dis.values()) - wk_mah_dis[key]\n",
    "sub_max_mah.pop(target_wk) # remove target wk\n",
    "\n",
    "for key in sub_max_mah.keys():\n",
    "    reverse_score[key] = sub_max_mah[key]/sum(sub_max_mah.values())\n",
    "wk_sorted_score = sorted(reverse_score.items(), key=(lambda x:x[1]), reverse=True) # return [(),(),()] list, tuple"
   ]
  },
  {
   "source": [
    "sub_max_mah = max(wk_mah_dis) - wk_mah_dis\n",
    "reverse_score = sub_max_mah/sum(sub_max_mah)\n",
    "reverse_score"
   ],
   "cell_type": "code",
   "metadata": {},
   "execution_count": 18,
   "outputs": [
    {
     "output_type": "error",
     "ename": "TypeError",
     "evalue": "unsupported operand type(s) for -: 'int' and 'dict'",
     "traceback": [
      "\u001b[0;31m---------------------------------------------------------------------------\u001b[0m",
      "\u001b[0;31mTypeError\u001b[0m                                 Traceback (most recent call last)",
      "\u001b[0;32m<ipython-input-18-6f3bbc2e140d>\u001b[0m in \u001b[0;36m<module>\u001b[0;34m\u001b[0m\n\u001b[0;32m----> 1\u001b[0;31m \u001b[0msub_max_mah\u001b[0m \u001b[0;34m=\u001b[0m \u001b[0mmax\u001b[0m\u001b[0;34m(\u001b[0m\u001b[0mwk_mah_dis\u001b[0m\u001b[0;34m)\u001b[0m \u001b[0;34m-\u001b[0m \u001b[0mwk_mah_dis\u001b[0m\u001b[0;34m\u001b[0m\u001b[0;34m\u001b[0m\u001b[0m\n\u001b[0m\u001b[1;32m      2\u001b[0m \u001b[0mreverse_score\u001b[0m \u001b[0;34m=\u001b[0m \u001b[0msub_max_mah\u001b[0m\u001b[0;34m/\u001b[0m\u001b[0msum\u001b[0m\u001b[0;34m(\u001b[0m\u001b[0msub_max_mah\u001b[0m\u001b[0;34m)\u001b[0m\u001b[0;34m\u001b[0m\u001b[0;34m\u001b[0m\u001b[0m\n\u001b[1;32m      3\u001b[0m \u001b[0mreverse_score\u001b[0m\u001b[0;34m\u001b[0m\u001b[0;34m\u001b[0m\u001b[0m\n",
      "\u001b[0;31mTypeError\u001b[0m: unsupported operand type(s) for -: 'int' and 'dict'"
     ]
    }
   ]
  },
  {
   "cell_type": "code",
   "execution_count": 235,
   "metadata": {},
   "outputs": [
    {
     "output_type": "execute_result",
     "data": {
      "text/plain": [
       "array([0, 1, 2, 3])"
      ]
     },
     "metadata": {},
     "execution_count": 235
    }
   ],
   "source": [
    "wk_sorted_score = np.argsort(-reverse_score)\n",
    "wk_sorted_score"
   ]
  },
  {
   "cell_type": "code",
   "execution_count": 69,
   "metadata": {},
   "outputs": [],
   "source": [
    "wk_df_external_metrics = []\n",
    "for wk_external_metric in wk_external_metrics_data:\n",
    "    df_external_metric = pd.DataFrame(data=wk_external_metric['data'], columns=wk_external_metric['columnlabels'], index=wk_external_metric['rowlabels'])\n",
    "    wk_df_external_metrics.append(df_external_metric)"
   ]
  },
  {
   "cell_type": "code",
   "execution_count": 77,
   "metadata": {},
   "outputs": [
    {
     "output_type": "stream",
     "name": "stdout",
     "text": [
      "7th workload remained data size 20000, get data size 1723\n14th workload remained data size 18277, get data size 1685\n6th workload remained data size 16592, get data size 1649\n3th workload remained data size 14943, get data size 1611\n11th workload remained data size 13332, get data size 1610\n10th workload remained data size 11722, get data size 1577\n2th workload remained data size 10145, get data size 1533\n1th workload remained data size 8612, get data size 1509\n5th workload remained data size 7103, get data size 1459\n9th workload remained data size 5644, get data size 1381\n4th workload remained data size 4263, get data size 1288\n0th workload remained data size 2975, get data size 1117\n8th workload remained data size 1858, get data size 950\n13th workload remained data size 908, get data size 908\n12th workload remained data size 0, get data size 0\n"
     ]
    }
   ],
   "source": [
    "sample_size = 20000\n",
    "combined_wk = pd.DataFrame()\n",
    "for _, (wk, score) in enumerate(wk_sorted_score):\n",
    "    wk_sample_size = round(score * sample_size)\n",
    "    # Sorting external metrics by workload\n",
    "    sorted_df_external_metric = wk_df_external_metrics[wk].sort_values(by=['WAF'])\n",
    "    # Remove duplicated index\n",
    "    sorted_df_external_metric = sorted_df_external_metric.drop(combined_wk.index)\n",
    "    print(f\"{wk}th workload remained data size {len(sorted_df_external_metric)}, get data size {wk_sample_size}\")\n",
    "    \n",
    "    combined_wk = pd.concat([combined_wk,sorted_df_external_metric[:wk_sample_size]])    "
   ]
  },
  {
   "cell_type": "code",
   "execution_count": 240,
   "metadata": {},
   "outputs": [
    {
     "output_type": "stream",
     "name": "stdout",
     "text": [
      "14th workload remained data size 20000, get data size 11571\n7th workload remained data size 8429, get data size 6828\n11th workload remained data size 1601, get data size 1601\n10th workload remained data size 0, get data size 0\n"
     ]
    }
   ],
   "source": [
    "sample_size = 20000\n",
    "combined_wk = pd.DataFrame()\n",
    "for i, wk in enumerate(top_sort):\n",
    "    wk_sample_size = round(reverse_score[i] * sample_size)\n",
    "    # Sorting external metrics by workload\n",
    "    sorted_df_external_metric = wk_df_external_metrics[wk].sort_values(by=['WAF'])\n",
    "    # Remove duplicated index\n",
    "    sorted_df_external_metric = sorted_df_external_metric.drop(combined_wk.index)\n",
    "    print(f\"{wk}th workload remained data size {len(sorted_df_external_metric)}, get data size {wk_sample_size}\")\n",
    "    \n",
    "    combined_wk = pd.concat([combined_wk,sorted_df_external_metric[:wk_sample_size]])    "
   ]
  },
  {
   "cell_type": "code",
   "execution_count": null,
   "metadata": {},
   "outputs": [],
   "source": [
    "sample_size = 20000\n",
    "combined_wk = pd.DataFrame()\n",
    "for wk in top_score:\n",
    "    wk_sample_size = round(top_score[wk] * sample_size)\n",
    "    # Sorting external metrics by workload\n",
    "    sorted_df_external_metric = wk_df_external_metrics[wk].sort_values(by=['WAF'])\n",
    "    # Remove duplicated index\n",
    "    sorted_df_external_metric = sorted_df_external_metric.drop(combined_wk.index)\n",
    "    print(f\"{wk}th workload remained data size {len(sorted_df_external_metric)}, get data size {wk_sample_size}\")\n",
    "    \n",
    "    combined_wk = pd.concat([combined_wk,sorted_df_external_metric[:wk_sample_size]])    "
   ]
  },
  {
   "cell_type": "code",
   "execution_count": 143,
   "metadata": {},
   "outputs": [
    {
     "output_type": "stream",
     "name": "stdout",
     "text": [
      "14th workload remained data size 20000\n7th workload remained data size 18662\n6th workload remained data size 17329\n11th workload remained data size 15996\n10th workload remained data size 14663\n3th workload remained data size 13330\n2th workload remained data size 11997\n9th workload remained data size 10664\n5th workload remained data size 9331\n1th workload remained data size 7998\n8th workload remained data size 6665\n4th workload remained data size 5332\n13th workload remained data size 3999\n0th workload remained data size 2666\n12th workload remained data size 1333\n"
     ]
    }
   ],
   "source": [
    "sample_size = 20000\n",
    "wk_sample_size = int(sample_size/len(wk_score))\n",
    "if wk_sample_size*len(wk_score) != sample_size: # if there is a remainder after division\n",
    "    wk_sample_size = wk_sample_size + (sample_size- wk_sample_size*len(wk_score))\n",
    "combined_wk = pd.DataFrame()\n",
    "\n",
    "for wk in wk_score:\n",
    "    # Sorting external metrics by workload\n",
    "    sorted_df_external_metric = wk_df_external_metrics[wk].sort_values(by=['WAF'])\n",
    "    # Remove duplicated index\n",
    "    sorted_df_external_metric = sorted_df_external_metric.drop(combined_wk.index)\n",
    "    print(f\"{wk}th workload remained data size {len(sorted_df_external_metric)}\")\n",
    "    combined_wk = pd.concat([combined_wk,sorted_df_external_metric[:wk_sample_size]])\n",
    "    wk_sample_size = int(sample_size/len(wk_score))"
   ]
  },
  {
   "cell_type": "code",
   "execution_count": 100,
   "metadata": {},
   "outputs": [
    {
     "output_type": "error",
     "ename": "NameError",
     "evalue": "name 'combined_wk' is not defined",
     "traceback": [
      "\u001b[0;31m---------------------------------------------------------------------------\u001b[0m",
      "\u001b[0;31mNameError\u001b[0m                                 Traceback (most recent call last)",
      "\u001b[0;32m<ipython-input-100-2864df481c04>\u001b[0m in \u001b[0;36m<module>\u001b[0;34m\u001b[0m\n\u001b[0;32m----> 1\u001b[0;31m \u001b[0mnp\u001b[0m\u001b[0;34m.\u001b[0m\u001b[0marray\u001b[0m\u001b[0;34m(\u001b[0m\u001b[0mcombined_wk\u001b[0m\u001b[0;34m)\u001b[0m\u001b[0;34m\u001b[0m\u001b[0;34m\u001b[0m\u001b[0m\n\u001b[0m",
      "\u001b[0;31mNameError\u001b[0m: name 'combined_wk' is not defined"
     ]
    }
   ],
   "source": [
    "np.array(combined_wk)"
   ]
  },
  {
   "cell_type": "code",
   "execution_count": 214,
   "metadata": {},
   "outputs": [
    {
     "output_type": "execute_result",
     "data": {
      "text/plain": [
       "True"
      ]
     },
     "metadata": {},
     "execution_count": 214
    }
   ],
   "source": [
    "combined_wk.index.is_unique"
   ]
  },
  {
   "cell_type": "code",
   "execution_count": 204,
   "metadata": {},
   "outputs": [
    {
     "output_type": "execute_result",
     "data": {
      "text/plain": [
       "        WAF\n",
       "1       6.4\n",
       "2       6.2\n",
       "3       9.9\n",
       "4      13.6\n",
       "5       6.9\n",
       "...     ...\n",
       "19996   9.8\n",
       "19997   6.3\n",
       "19998   6.6\n",
       "19999   6.7\n",
       "20000   3.9\n",
       "\n",
       "[20000 rows x 1 columns]"
      ],
      "text/html": "<div>\n<style scoped>\n    .dataframe tbody tr th:only-of-type {\n        vertical-align: middle;\n    }\n\n    .dataframe tbody tr th {\n        vertical-align: top;\n    }\n\n    .dataframe thead th {\n        text-align: right;\n    }\n</style>\n<table border=\"1\" class=\"dataframe\">\n  <thead>\n    <tr style=\"text-align: right;\">\n      <th></th>\n      <th>WAF</th>\n    </tr>\n  </thead>\n  <tbody>\n    <tr>\n      <th>1</th>\n      <td>6.4</td>\n    </tr>\n    <tr>\n      <th>2</th>\n      <td>6.2</td>\n    </tr>\n    <tr>\n      <th>3</th>\n      <td>9.9</td>\n    </tr>\n    <tr>\n      <th>4</th>\n      <td>13.6</td>\n    </tr>\n    <tr>\n      <th>5</th>\n      <td>6.9</td>\n    </tr>\n    <tr>\n      <th>...</th>\n      <td>...</td>\n    </tr>\n    <tr>\n      <th>19996</th>\n      <td>9.8</td>\n    </tr>\n    <tr>\n      <th>19997</th>\n      <td>6.3</td>\n    </tr>\n    <tr>\n      <th>19998</th>\n      <td>6.6</td>\n    </tr>\n    <tr>\n      <th>19999</th>\n      <td>6.7</td>\n    </tr>\n    <tr>\n      <th>20000</th>\n      <td>3.9</td>\n    </tr>\n  </tbody>\n</table>\n<p>20000 rows × 1 columns</p>\n</div>"
     },
     "metadata": {},
     "execution_count": 204
    }
   ],
   "source": [
    "combined_wk.sort_index()"
   ]
  },
  {
   "cell_type": "code",
   "execution_count": 200,
   "metadata": {},
   "outputs": [
    {
     "output_type": "execute_result",
     "data": {
      "text/plain": [
       "        WAF\n",
       "2143    3.9\n",
       "12321   4.1\n",
       "8423    4.1\n",
       "17124   4.1\n",
       "11651   4.1\n",
       "...     ...\n",
       "18605  26.1\n",
       "13489  27.3\n",
       "2859   27.9\n",
       "11329  29.0\n",
       "14523  29.2\n",
       "\n",
       "[20000 rows x 1 columns]"
      ],
      "text/html": "<div>\n<style scoped>\n    .dataframe tbody tr th:only-of-type {\n        vertical-align: middle;\n    }\n\n    .dataframe tbody tr th {\n        vertical-align: top;\n    }\n\n    .dataframe thead th {\n        text-align: right;\n    }\n</style>\n<table border=\"1\" class=\"dataframe\">\n  <thead>\n    <tr style=\"text-align: right;\">\n      <th></th>\n      <th>WAF</th>\n    </tr>\n  </thead>\n  <tbody>\n    <tr>\n      <th>2143</th>\n      <td>3.9</td>\n    </tr>\n    <tr>\n      <th>12321</th>\n      <td>4.1</td>\n    </tr>\n    <tr>\n      <th>8423</th>\n      <td>4.1</td>\n    </tr>\n    <tr>\n      <th>17124</th>\n      <td>4.1</td>\n    </tr>\n    <tr>\n      <th>11651</th>\n      <td>4.1</td>\n    </tr>\n    <tr>\n      <th>...</th>\n      <td>...</td>\n    </tr>\n    <tr>\n      <th>18605</th>\n      <td>26.1</td>\n    </tr>\n    <tr>\n      <th>13489</th>\n      <td>27.3</td>\n    </tr>\n    <tr>\n      <th>2859</th>\n      <td>27.9</td>\n    </tr>\n    <tr>\n      <th>11329</th>\n      <td>29.0</td>\n    </tr>\n    <tr>\n      <th>14523</th>\n      <td>29.2</td>\n    </tr>\n  </tbody>\n</table>\n<p>20000 rows × 1 columns</p>\n</div>"
     },
     "metadata": {},
     "execution_count": 200
    }
   ],
   "source": [
    "sorted_df_external_metric.drop(combined_wk.index)"
   ]
  },
  {
   "cell_type": "code",
   "execution_count": 196,
   "metadata": {},
   "outputs": [
    {
     "output_type": "execute_result",
     "data": {
      "text/plain": [
       "Int64Index([ 2143, 12321,  8423, 17124, 11651, 19929,  7922,   593,  6930,\n",
       "             7185,\n",
       "            ...\n",
       "            13431,   355, 16799, 16783,  2377, 17525, 14671,  4025, 12628,\n",
       "            10358],\n",
       "           dtype='int64', length=1338)"
      ]
     },
     "metadata": {},
     "execution_count": 196
    }
   ],
   "source": [
    "combined_wk.index"
   ]
  },
  {
   "source": [
    "f_wk_sample_size"
   ],
   "cell_type": "code",
   "metadata": {},
   "execution_count": 173,
   "outputs": [
    {
     "output_type": "execute_result",
     "data": {
      "text/plain": [
       "1338"
      ]
     },
     "metadata": {},
     "execution_count": 173
    }
   ]
  },
  {
   "cell_type": "code",
   "execution_count": 174,
   "metadata": {},
   "outputs": [
    {
     "output_type": "execute_result",
     "data": {
      "text/plain": [
       "20000"
      ]
     },
     "metadata": {},
     "execution_count": 174
    }
   ],
   "source": [
    "14*1333+1338"
   ]
  },
  {
   "cell_type": "code",
   "execution_count": 165,
   "metadata": {},
   "outputs": [
    {
     "output_type": "execute_result",
     "data": {
      "text/plain": [
       "        WAF\n",
       "2143    3.9\n",
       "12321   4.1\n",
       "8423    4.1\n",
       "17124   4.1\n",
       "11651   4.1\n",
       "...     ...\n",
       "18605  26.1\n",
       "13489  27.3\n",
       "2859   27.9\n",
       "11329  29.0\n",
       "14523  29.2\n",
       "\n",
       "[20000 rows x 1 columns]"
      ],
      "text/html": "<div>\n<style scoped>\n    .dataframe tbody tr th:only-of-type {\n        vertical-align: middle;\n    }\n\n    .dataframe tbody tr th {\n        vertical-align: top;\n    }\n\n    .dataframe thead th {\n        text-align: right;\n    }\n</style>\n<table border=\"1\" class=\"dataframe\">\n  <thead>\n    <tr style=\"text-align: right;\">\n      <th></th>\n      <th>WAF</th>\n    </tr>\n  </thead>\n  <tbody>\n    <tr>\n      <th>2143</th>\n      <td>3.9</td>\n    </tr>\n    <tr>\n      <th>12321</th>\n      <td>4.1</td>\n    </tr>\n    <tr>\n      <th>8423</th>\n      <td>4.1</td>\n    </tr>\n    <tr>\n      <th>17124</th>\n      <td>4.1</td>\n    </tr>\n    <tr>\n      <th>11651</th>\n      <td>4.1</td>\n    </tr>\n    <tr>\n      <th>...</th>\n      <td>...</td>\n    </tr>\n    <tr>\n      <th>18605</th>\n      <td>26.1</td>\n    </tr>\n    <tr>\n      <th>13489</th>\n      <td>27.3</td>\n    </tr>\n    <tr>\n      <th>2859</th>\n      <td>27.9</td>\n    </tr>\n    <tr>\n      <th>11329</th>\n      <td>29.0</td>\n    </tr>\n    <tr>\n      <th>14523</th>\n      <td>29.2</td>\n    </tr>\n  </tbody>\n</table>\n<p>20000 rows × 1 columns</p>\n</div>"
     },
     "metadata": {},
     "execution_count": 165
    }
   ],
   "source": [
    "wk_df_external_metrics[wk].sort_values(by=['WAF'])"
   ]
  },
  {
   "cell_type": "code",
   "execution_count": 179,
   "metadata": {},
   "outputs": [],
   "source": [
    "import pandas as pd\n",
    "import numpy as np\n",
    "from sklearn.metrics import mean_squared_error as MSE"
   ]
  },
  {
   "cell_type": "code",
   "execution_count": 241,
   "metadata": {},
   "outputs": [
    {
     "output_type": "execute_result",
     "data": {
      "text/plain": [
       "   WAF\n",
       "1  8.2\n",
       "2  7.2\n",
       "3  7.2\n",
       "4  8.5\n",
       "5  7.5"
      ],
      "text/html": "<div>\n<style scoped>\n    .dataframe tbody tr th:only-of-type {\n        vertical-align: middle;\n    }\n\n    .dataframe tbody tr th {\n        vertical-align: top;\n    }\n\n    .dataframe thead th {\n        text-align: right;\n    }\n</style>\n<table border=\"1\" class=\"dataframe\">\n  <thead>\n    <tr style=\"text-align: right;\">\n      <th></th>\n      <th>WAF</th>\n    </tr>\n  </thead>\n  <tbody>\n    <tr>\n      <th>1</th>\n      <td>8.2</td>\n    </tr>\n    <tr>\n      <th>2</th>\n      <td>7.2</td>\n    </tr>\n    <tr>\n      <th>3</th>\n      <td>7.2</td>\n    </tr>\n    <tr>\n      <th>4</th>\n      <td>8.5</td>\n    </tr>\n    <tr>\n      <th>5</th>\n      <td>7.5</td>\n    </tr>\n  </tbody>\n</table>\n</div>"
     },
     "metadata": {},
     "execution_count": 241
    }
   ],
   "source": [
    "combi_wk = pd.read_csv('combined_wk/210701_combined_wk_0.csv', index_col=0)\n",
    "combi_wk.head()"
   ]
  },
  {
   "cell_type": "code",
   "execution_count": 242,
   "metadata": {},
   "outputs": [
    {
     "output_type": "execute_result",
     "data": {
      "text/plain": [
       "    WAF\n",
       "0   8.7\n",
       "1   8.9\n",
       "2   7.5\n",
       "3  10.5\n",
       "4  11.6"
      ],
      "text/html": "<div>\n<style scoped>\n    .dataframe tbody tr th:only-of-type {\n        vertical-align: middle;\n    }\n\n    .dataframe tbody tr th {\n        vertical-align: top;\n    }\n\n    .dataframe thead th {\n        text-align: right;\n    }\n</style>\n<table border=\"1\" class=\"dataframe\">\n  <thead>\n    <tr style=\"text-align: right;\">\n      <th></th>\n      <th>WAF</th>\n    </tr>\n  </thead>\n  <tbody>\n    <tr>\n      <th>0</th>\n      <td>8.7</td>\n    </tr>\n    <tr>\n      <th>1</th>\n      <td>8.9</td>\n    </tr>\n    <tr>\n      <th>2</th>\n      <td>7.5</td>\n    </tr>\n    <tr>\n      <th>3</th>\n      <td>10.5</td>\n    </tr>\n    <tr>\n      <th>4</th>\n      <td>11.6</td>\n    </tr>\n  </tbody>\n</table>\n</div>"
     },
     "metadata": {},
     "execution_count": 242
    }
   ],
   "source": [
    "target_wk = pd.read_csv('../data/rocksdb_data/results/external/external_results_0.csv')\n",
    "target_waf = target_wk[['WAF']]\n",
    "target_waf.head()"
   ]
  },
  {
   "cell_type": "code",
   "execution_count": 243,
   "metadata": {},
   "outputs": [],
   "source": [
    "combi_wk = combi_wk.reset_index(drop=True)"
   ]
  },
  {
   "cell_type": "code",
   "execution_count": 244,
   "metadata": {},
   "outputs": [
    {
     "output_type": "execute_result",
     "data": {
      "text/plain": [
       "WAF  \n",
       "False    19139\n",
       "True       861\n",
       "dtype: int64"
      ]
     },
     "metadata": {},
     "execution_count": 244
    }
   ],
   "source": [
    "(combi_wk[['WAF']] == target_waf[['WAF']]).value_counts()"
   ]
  },
  {
   "cell_type": "code",
   "execution_count": 245,
   "metadata": {},
   "outputs": [
    {
     "output_type": "execute_result",
     "data": {
      "text/plain": [
       "8.117584"
      ]
     },
     "metadata": {},
     "execution_count": 245
    }
   ],
   "source": [
    "MSE(combi_wk['WAF'].values, target_waf['WAF'].values)"
   ]
  },
  {
   "cell_type": "code",
   "execution_count": 247,
   "metadata": {},
   "outputs": [
    {
     "output_type": "stream",
     "name": "stdout",
     "text": [
      "1 workload MSE: 0.0\n",
      "2 workload MSE: 4.085368\n",
      "3 workload MSE: 11.276116\n",
      "4 workload MSE: 13.9992035\n",
      "5 workload MSE: 7.179591499999999\n",
      "6 workload MSE: 8.648807500000002\n",
      "7 workload MSE: 12.523487\n",
      "8 workload MSE: 14.043045999999999\n",
      "9 workload MSE: 8.7440805\n",
      "10 workload MSE: 11.7974105\n",
      "11 workload MSE: 12.677317500000001\n",
      "12 workload MSE: 12.993538\n",
      "13 workload MSE: 14.198298000000001\n",
      "14 workload MSE: 8.4011745\n",
      "15 workload MSE: 9.860332000000001\n",
      "16 workload MSE: 10.5773895\n"
     ]
    }
   ],
   "source": [
    "for i in range(16):\n",
    "    target_wk = pd.read_csv('../data/rocksdb_data/results/external/external_results_0.csv')\n",
    "    train_wk = pd.read_csv(f'../data/rocksdb_data/results/external/external_results_{i}.csv')\n",
    "    target_waf = target_wk[['WAF']]\n",
    "    train_waf = train_wk[['WAF']]\n",
    "    mse = MSE(train_waf['WAF'].values, target_waf['WAF'].values)\n",
    "    print(f'{i+1} workload MSE: {mse}')\n",
    "    num = (train_waf[['WAF']] == target_waf[['WAF']]).value_counts()\n",
    "    # print(f'{i+1} workload same value numbers: \\n{num}')"
   ]
  },
  {
   "cell_type": "code",
   "execution_count": null,
   "metadata": {},
   "outputs": [],
   "source": []
  }
 ]
}